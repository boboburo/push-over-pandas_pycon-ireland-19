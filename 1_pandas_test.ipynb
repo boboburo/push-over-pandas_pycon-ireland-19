{
 "cells": [
  {
   "cell_type": "code",
   "execution_count": 1,
   "metadata": {},
   "outputs": [],
   "source": [
    "import os\n",
    "import sys\n",
    "import yaml\n",
    "import json\n",
    "import numpy as np\n",
    "\n",
    "with open(\"config.yaml\", 'r') as yml_file:\n",
    "    cfg = yaml.safe_load(yml_file)\n",
    "    \n",
    "#Get data path from config \n",
    "data_path = cfg['brian_laptop']['data_path']\n",
    "mb_div = cfg['contants']['mb_div']\n",
    "\n",
    "#Get dyype for meta file \n",
    "meta_data_file = os.path.join(data_path, cfg['data']['metadata'])\n",
    "with open(meta_data_file) as f:\n",
    "    meta_data = json.load(f)"
   ]
  },
  {
   "cell_type": "code",
   "execution_count": 2,
   "metadata": {},
   "outputs": [
    {
     "name": "stdout",
     "output_type": "stream",
     "text": [
      "0.25.1\n"
     ]
    }
   ],
   "source": [
    "import pandas as pd\n",
    "print(pd.__version__)\n",
    "import datetime as dt"
   ]
  },
  {
   "cell_type": "markdown",
   "metadata": {},
   "source": [
    "## Tiny Data\n",
    "150 rows, 3 cols"
   ]
  },
  {
   "cell_type": "code",
   "execution_count": 35,
   "metadata": {},
   "outputs": [
    {
     "name": "stdout",
     "output_type": "stream",
     "text": [
      "CPU times: user 3.95 ms, sys: 2.72 ms, total: 6.67 ms\n",
      "Wall time: 4.89 ms\n"
     ]
    }
   ],
   "source": [
    "%%time\n",
    "\n",
    "iris_file = os.path.join(data_path, cfg['data']['iris_csv'])\n",
    "iris = pd.read_csv(iris_file)"
   ]
  },
  {
   "cell_type": "code",
   "execution_count": 36,
   "metadata": {},
   "outputs": [
    {
     "name": "stdout",
     "output_type": "stream",
     "text": [
      "data frame memory(MB): 0.01476\n",
      "data frame memory(MB): 0.01473\n",
      "(150, 5)\n"
     ]
    }
   ],
   "source": [
    "print(\"data frame memory(MB):\", round(sys.getsizeof(iris))/mb_div)\n",
    "print(\"data frame memory(MB):\", round(iris.memory_usage(deep = \"True\").sum()/mb_div,5))\n",
    "print(iris.shape)\n",
    "del(iris)"
   ]
  },
  {
   "cell_type": "markdown",
   "metadata": {},
   "source": [
    " ## Bigger Data\n",
    "55 million rows, 8 cols"
   ]
  },
  {
   "cell_type": "code",
   "execution_count": null,
   "metadata": {},
   "outputs": [],
   "source": [
    "%%time\n",
    "\n",
    "nyc_taxi_fare_file = os.path.join(data_path, cfg['data']['kaggle_nyc'])\n",
    "nyc_taxi_fare_dtype = dict(zip(meta_data['kaggle_nyc']['colnames'], meta_data['kaggle_nyc']['dtype']))\n",
    "nyc_taxi_fare = pd.read_csv(nyc_taxi_fare_file, \n",
    "                            dtype = nyc_taxi_fare_dtype,\n",
    "                             parse_dates = meta_data['kaggle_nyc']['datecols'])"
   ]
  },
  {
   "cell_type": "code",
   "execution_count": null,
   "metadata": {},
   "outputs": [],
   "source": [
    "print(\"data frame memory(MB):\", round(sys.getsizeof(nyc_taxi_fare)/mb_div,3))\n",
    "print(nyc_taxi_fare.shape)\n",
    "nyc_taxi_fare.head()"
   ]
  },
  {
   "cell_type": "code",
   "execution_count": null,
   "metadata": {},
   "outputs": [],
   "source": [
    "%%time\n",
    "nyc_taxi_fare.groupby(['passenger_count'])['fare_amount'].agg(count = len, \n",
    "                                                              mean = np.mean,\n",
    "                                                              std = np.std,\n",
    "                                                              min = np.min,\n",
    "                                                              median = np.median,\n",
    "                                                              max = np.max)\n",
    "\n",
    "#How to get quantile ? "
   ]
  },
  {
   "cell_type": "code",
   "execution_count": null,
   "metadata": {},
   "outputs": [],
   "source": [
    "%%time\n",
    "nyc_taxi_fare.groupby(['passenger_count'])['fare_amount'].describe()"
   ]
  },
  {
   "cell_type": "markdown",
   "metadata": {},
   "source": [
    "## PANDAS INTERESTING BITS ##"
   ]
  },
  {
   "cell_type": "code",
   "execution_count": 32,
   "metadata": {},
   "outputs": [],
   "source": [
    "del(nyc_taxi_fare)"
   ]
  },
  {
   "cell_type": "code",
   "execution_count": 119,
   "metadata": {},
   "outputs": [
    {
     "data": {
      "text/html": [
       "<div>\n",
       "<style scoped>\n",
       "    .dataframe tbody tr th:only-of-type {\n",
       "        vertical-align: middle;\n",
       "    }\n",
       "\n",
       "    .dataframe tbody tr th {\n",
       "        vertical-align: top;\n",
       "    }\n",
       "\n",
       "    .dataframe thead th {\n",
       "        text-align: right;\n",
       "    }\n",
       "</style>\n",
       "<table border=\"1\" class=\"dataframe\">\n",
       "  <thead>\n",
       "    <tr style=\"text-align: right;\">\n",
       "      <th></th>\n",
       "      <th>key</th>\n",
       "      <th>fare_amount</th>\n",
       "      <th>pickup_datetime</th>\n",
       "      <th>pickup_longitude</th>\n",
       "      <th>pickup_latitude</th>\n",
       "      <th>dropoff_longitude</th>\n",
       "      <th>dropoff_latitude</th>\n",
       "      <th>passenger_count</th>\n",
       "    </tr>\n",
       "    <tr>\n",
       "      <th>pickup_datetime</th>\n",
       "      <th></th>\n",
       "      <th></th>\n",
       "      <th></th>\n",
       "      <th></th>\n",
       "      <th></th>\n",
       "      <th></th>\n",
       "      <th></th>\n",
       "      <th></th>\n",
       "    </tr>\n",
       "  </thead>\n",
       "  <tbody>\n",
       "    <tr>\n",
       "      <td>2009</td>\n",
       "      <td>1531</td>\n",
       "      <td>1531</td>\n",
       "      <td>1531</td>\n",
       "      <td>1531</td>\n",
       "      <td>1531</td>\n",
       "      <td>1531</td>\n",
       "      <td>1531</td>\n",
       "      <td>1531</td>\n",
       "    </tr>\n",
       "    <tr>\n",
       "      <td>2010</td>\n",
       "      <td>1538</td>\n",
       "      <td>1538</td>\n",
       "      <td>1538</td>\n",
       "      <td>1538</td>\n",
       "      <td>1538</td>\n",
       "      <td>1538</td>\n",
       "      <td>1538</td>\n",
       "      <td>1538</td>\n",
       "    </tr>\n",
       "    <tr>\n",
       "      <td>2011</td>\n",
       "      <td>1560</td>\n",
       "      <td>1560</td>\n",
       "      <td>1560</td>\n",
       "      <td>1560</td>\n",
       "      <td>1560</td>\n",
       "      <td>1560</td>\n",
       "      <td>1560</td>\n",
       "      <td>1560</td>\n",
       "    </tr>\n",
       "    <tr>\n",
       "      <td>2012</td>\n",
       "      <td>1640</td>\n",
       "      <td>1640</td>\n",
       "      <td>1640</td>\n",
       "      <td>1640</td>\n",
       "      <td>1640</td>\n",
       "      <td>1640</td>\n",
       "      <td>1640</td>\n",
       "      <td>1640</td>\n",
       "    </tr>\n",
       "    <tr>\n",
       "      <td>2013</td>\n",
       "      <td>1585</td>\n",
       "      <td>1585</td>\n",
       "      <td>1585</td>\n",
       "      <td>1585</td>\n",
       "      <td>1585</td>\n",
       "      <td>1585</td>\n",
       "      <td>1585</td>\n",
       "      <td>1585</td>\n",
       "    </tr>\n",
       "    <tr>\n",
       "      <td>2014</td>\n",
       "      <td>1475</td>\n",
       "      <td>1475</td>\n",
       "      <td>1475</td>\n",
       "      <td>1475</td>\n",
       "      <td>1475</td>\n",
       "      <td>1475</td>\n",
       "      <td>1475</td>\n",
       "      <td>1475</td>\n",
       "    </tr>\n",
       "    <tr>\n",
       "      <td>2015</td>\n",
       "      <td>671</td>\n",
       "      <td>671</td>\n",
       "      <td>671</td>\n",
       "      <td>671</td>\n",
       "      <td>671</td>\n",
       "      <td>671</td>\n",
       "      <td>671</td>\n",
       "      <td>671</td>\n",
       "    </tr>\n",
       "  </tbody>\n",
       "</table>\n",
       "</div>"
      ],
      "text/plain": [
       "                  key  fare_amount  pickup_datetime  pickup_longitude  \\\n",
       "pickup_datetime                                                         \n",
       "2009             1531         1531             1531              1531   \n",
       "2010             1538         1538             1538              1538   \n",
       "2011             1560         1560             1560              1560   \n",
       "2012             1640         1640             1640              1640   \n",
       "2013             1585         1585             1585              1585   \n",
       "2014             1475         1475             1475              1475   \n",
       "2015              671          671              671               671   \n",
       "\n",
       "                 pickup_latitude  dropoff_longitude  dropoff_latitude  \\\n",
       "pickup_datetime                                                         \n",
       "2009                        1531               1531              1531   \n",
       "2010                        1538               1538              1538   \n",
       "2011                        1560               1560              1560   \n",
       "2012                        1640               1640              1640   \n",
       "2013                        1585               1585              1585   \n",
       "2014                        1475               1475              1475   \n",
       "2015                         671                671               671   \n",
       "\n",
       "                 passenger_count  \n",
       "pickup_datetime                   \n",
       "2009                        1531  \n",
       "2010                        1538  \n",
       "2011                        1560  \n",
       "2012                        1640  \n",
       "2013                        1585  \n",
       "2014                        1475  \n",
       "2015                         671  "
      ]
     },
     "execution_count": 119,
     "metadata": {},
     "output_type": "execute_result"
    }
   ],
   "source": [
    "nyc_taxi_fare.groupby(nyc_taxi_fare['pickup_datetime'].dt.year).agg('count')"
   ]
  },
  {
   "cell_type": "code",
   "execution_count": null,
   "metadata": {},
   "outputs": [],
   "source": []
  },
  {
   "cell_type": "code",
   "execution_count": null,
   "metadata": {},
   "outputs": [],
   "source": []
  },
  {
   "cell_type": "code",
   "execution_count": null,
   "metadata": {},
   "outputs": [],
   "source": []
  },
  {
   "cell_type": "code",
   "execution_count": null,
   "metadata": {},
   "outputs": [],
   "source": []
  },
  {
   "cell_type": "code",
   "execution_count": null,
   "metadata": {},
   "outputs": [],
   "source": []
  },
  {
   "cell_type": "markdown",
   "metadata": {},
   "source": [
    "## Too Big Data\n",
    "\n",
    "46 million rows, 32 columns \n",
    "Need tp come up with a better example\n"
   ]
  },
  {
   "cell_type": "code",
   "execution_count": 73,
   "metadata": {},
   "outputs": [
    {
     "name": "stdout",
     "output_type": "stream",
     "text": [
      "CPU times: user 6min 45s, sys: 6min 44s, total: 13min 30s\n",
      "Wall time: 21min 40s\n"
     ]
    }
   ],
   "source": [
    "%%time\n",
    "\n",
    "dc_taxi_file_quad = os.path.join(data_path, cfg['data']['dc_taxi_2017_quad'])\n",
    "dc_taxi_quad = pd.read_csv(dc_taxi_file_quad)"
   ]
  },
  {
   "cell_type": "code",
   "execution_count": 77,
   "metadata": {},
   "outputs": [
    {
     "ename": "NameError",
     "evalue": "name 'sys' is not defined",
     "output_type": "error",
     "traceback": [
      "\u001b[0;31m---------------------------------------------------------------------------\u001b[0m",
      "\u001b[0;31mNameError\u001b[0m                                 Traceback (most recent call last)",
      "\u001b[0;32m<ipython-input-77-369b79526bf7>\u001b[0m in \u001b[0;36m<module>\u001b[0;34m\u001b[0m\n\u001b[0;32m----> 1\u001b[0;31m \u001b[0mprint\u001b[0m\u001b[0;34m(\u001b[0m\u001b[0;34m\"pandas table memory(MB)\"\u001b[0m\u001b[0;34m,\u001b[0m \u001b[0mround\u001b[0m\u001b[0;34m(\u001b[0m\u001b[0msys\u001b[0m\u001b[0;34m.\u001b[0m\u001b[0mgetsizeof\u001b[0m\u001b[0;34m(\u001b[0m\u001b[0mdc_taxi_quad\u001b[0m\u001b[0;34m)\u001b[0m\u001b[0;34m/\u001b[0m\u001b[0;36m1000000\u001b[0m\u001b[0;34m,\u001b[0m\u001b[0;36m3\u001b[0m\u001b[0;34m)\u001b[0m\u001b[0;34m)\u001b[0m\u001b[0;34m\u001b[0m\u001b[0;34m\u001b[0m\u001b[0m\n\u001b[0m\u001b[1;32m      2\u001b[0m \u001b[0mprint\u001b[0m\u001b[0;34m(\u001b[0m\u001b[0mdc_taxi_quad\u001b[0m\u001b[0;34m.\u001b[0m\u001b[0mshape\u001b[0m\u001b[0;34m)\u001b[0m\u001b[0;34m\u001b[0m\u001b[0;34m\u001b[0m\u001b[0m\n",
      "\u001b[0;31mNameError\u001b[0m: name 'sys' is not defined"
     ]
    }
   ],
   "source": [
    "print(\"pandas table memory(MB)\", round(sys.getsizeof(dc_taxi_quad)/mb_div,3))\n",
    "print(dc_taxi_quad.shape)"
   ]
  },
  {
   "cell_type": "code",
   "execution_count": 75,
   "metadata": {},
   "outputs": [],
   "source": [
    "del(dc_taxi_quad)"
   ]
  }
 ],
 "metadata": {
  "kernelspec": {
   "display_name": "Python 3",
   "language": "python",
   "name": "python3"
  },
  "language_info": {
   "codemirror_mode": {
    "name": "ipython",
    "version": 3
   },
   "file_extension": ".py",
   "mimetype": "text/x-python",
   "name": "python",
   "nbconvert_exporter": "python",
   "pygments_lexer": "ipython3",
   "version": "3.7.4"
  }
 },
 "nbformat": 4,
 "nbformat_minor": 4
}
