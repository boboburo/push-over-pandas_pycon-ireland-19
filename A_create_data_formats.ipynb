{
 "cells": [
  {
   "cell_type": "markdown",
   "metadata": {},
   "source": [
    "# Creating Data Formats\n",
    "Origin file is in CSV. \n",
    "Use pandas to convert to \n",
    "- parquet with snappy and gzip conversion. Dash only support gzip. Snappy is default in Pandas\n",
    "- hdf for modin\n",
    "- hdf5 for vaex "
   ]
  },
  {
   "cell_type": "code",
   "execution_count": 7,
   "metadata": {
    "ExecuteTime": {
     "end_time": "2019-10-12T16:28:15.178380Z",
     "start_time": "2019-10-12T16:28:15.168338Z"
    }
   },
   "outputs": [],
   "source": [
    "import os\n",
    "import sys\n",
    "import yaml\n",
    "import json\n",
    "import numpy as np\n",
    "\n",
    "with open(\"config.yaml\", 'r') as yml_file:\n",
    "    cfg = yaml.safe_load(yml_file)\n",
    "    \n",
    "#Get data path from config \n",
    "data_path = cfg['brian_laptop']['data_path']\n",
    "mb_div = cfg['constant']['mb_div']\n",
    "gb_div = cfg['constant']['gb_div']\n",
    "             \n",
    "\n",
    "#Get dyype for meta file \n",
    "meta_data_file = os.path.join(data_path, cfg['data']['metadata'])\n",
    "with open(meta_data_file) as f:\n",
    "    meta_data = json.load(f)"
   ]
  },
  {
   "cell_type": "code",
   "execution_count": 8,
   "metadata": {
    "ExecuteTime": {
     "end_time": "2019-10-12T16:28:15.638957Z",
     "start_time": "2019-10-12T16:28:15.634882Z"
    }
   },
   "outputs": [
    {
     "name": "stdout",
     "output_type": "stream",
     "text": [
      "0.25.1\n"
     ]
    }
   ],
   "source": [
    "import pandas as pd\n",
    "print(pd.__version__)\n",
    "import datetime as dt"
   ]
  },
  {
   "cell_type": "markdown",
   "metadata": {
    "ExecuteTime": {
     "end_time": "2019-10-12T13:30:39.304119Z",
     "start_time": "2019-10-12T13:30:39.301705Z"
    }
   },
   "source": [
    "## Covert Data\n",
    "- read in the csv\n",
    "- print out the file sizes"
   ]
  },
  {
   "cell_type": "code",
   "execution_count": 3,
   "metadata": {
    "ExecuteTime": {
     "end_time": "2019-10-12T16:25:00.731790Z",
     "start_time": "2019-10-12T16:24:14.862366Z"
    }
   },
   "outputs": [
    {
     "name": "stdout",
     "output_type": "stream",
     "text": [
      "File Size(GB): 2.72\n"
     ]
    }
   ],
   "source": [
    "yellow_trip_file = os.path.join(data_path, cfg['data']['nyc_yellow_trip_csv'])\n",
    "print(\"File Size(GB):\",round(os.path.getsize(yellow_trip_file)/gb_div,3))\n",
    "\n",
    "#get the datatype\n",
    "yellow_taxi_dtype = dict(zip(\n",
    "    meta_data['yellow_trip_taxi']['colnames'],\n",
    "    meta_data['yellow_trip_taxi']['dtype']))\n",
    "\n",
    "yellow_trip = pd.read_csv(yellow_trip_file, \n",
    "                          parse_dates = meta_data['yellow_trip_taxi']['datecols'])"
   ]
  },
  {
   "cell_type": "code",
   "execution_count": 49,
   "metadata": {
    "ExecuteTime": {
     "end_time": "2019-10-12T16:16:56.823398Z",
     "start_time": "2019-10-12T16:16:45.141113Z"
    }
   },
   "outputs": [
    {
     "name": "stdout",
     "output_type": "stream",
     "text": [
      "File Size(GB): 0.699\n"
     ]
    }
   ],
   "source": [
    "## parquet_snappy\n",
    "## snappy is defaut for pd.to_parquet\n",
    "yellow_trip_file = os.path.join(data_path, cfg['data']['nyc_yellow_trip_parquet_snappy'])\n",
    "yellow_trip.to_parquet(yellow_trip_file, compression = \"snappy\")\n",
    "print(\"File Size(GB):\",round(os.path.getsize(yellow_trip_file)/gb_div,3))"
   ]
  },
  {
   "cell_type": "code",
   "execution_count": 50,
   "metadata": {
    "ExecuteTime": {
     "end_time": "2019-10-12T16:18:10.141825Z",
     "start_time": "2019-10-12T16:16:56.825631Z"
    }
   },
   "outputs": [
    {
     "name": "stdout",
     "output_type": "stream",
     "text": [
      "File Size(GB): 0.523\n"
     ]
    }
   ],
   "source": [
    "## parquet_gzip\n",
    "yellow_trip_file = os.path.join(data_path, cfg['data']['nyc_yellow_trip_parquet_gzip'])\n",
    "yellow_trip.to_parquet(yellow_trip_file, compression = \"gzip\")\n",
    "print(\"File Size(GB):\",round(os.path.getsize(yellow_trip_file)/gb_div,3))"
   ]
  },
  {
   "cell_type": "code",
   "execution_count": 51,
   "metadata": {
    "ExecuteTime": {
     "end_time": "2019-10-12T16:18:17.752064Z",
     "start_time": "2019-10-12T16:18:10.144750Z"
    }
   },
   "outputs": [
    {
     "name": "stdout",
     "output_type": "stream",
     "text": [
      "File Size(GB): 2.16\n"
     ]
    }
   ],
   "source": [
    "## hdf\n",
    "yellow_trip_file  = os.path.join(data_path, cfg['data']['nyc_yellow_trip_hdf'])\n",
    "yellow_trip.to_hdf(yellow_trip_file, key = \"year_2010_06\", mode = \"w\")\n",
    "print(\"File Size(GB):\",round(os.path.getsize(yellow_trip_file)/gb_div,3))"
   ]
  },
  {
   "cell_type": "markdown",
   "metadata": {},
   "source": [
    "## HDF5 created with VAEX"
   ]
  },
  {
   "cell_type": "code",
   "execution_count": 4,
   "metadata": {
    "ExecuteTime": {
     "end_time": "2019-10-12T16:25:01.686637Z",
     "start_time": "2019-10-12T16:25:00.733789Z"
    }
   },
   "outputs": [
    {
     "name": "stdout",
     "output_type": "stream",
     "text": [
      "1.0.0-beta.6\n"
     ]
    }
   ],
   "source": [
    "import vaex\n",
    "print(vaex.__version__)"
   ]
  },
  {
   "cell_type": "code",
   "execution_count": 5,
   "metadata": {
    "ExecuteTime": {
     "end_time": "2019-10-12T16:27:08.720578Z",
     "start_time": "2019-10-12T16:25:01.688658Z"
    }
   },
   "outputs": [
    {
     "name": "stdout",
     "output_type": "stream",
     "text": [
      "<class 'pandas.core.frame.DataFrame'>\n",
      "<class 'vaex.dataframe.DataFrameArrays'>\n"
     ]
    }
   ],
   "source": [
    "print(type(yellow_trip))\n",
    "df = vaex.from_pandas(yellow_trip)\n",
    "print(type(df))"
   ]
  },
  {
   "cell_type": "code",
   "execution_count": 9,
   "metadata": {
    "ExecuteTime": {
     "end_time": "2019-10-12T16:28:29.006241Z",
     "start_time": "2019-10-12T16:28:25.720179Z"
    }
   },
   "outputs": [
    {
     "name": "stdout",
     "output_type": "stream",
     "text": [
      "File Size(GB): 2.224\n"
     ]
    }
   ],
   "source": [
    "yellow_trip_file = os.path.join(data_path, cfg['data']['nyc_yellow_trip_hdf5'])\n",
    "df.export_hdf5(yellow_trip_file)\n",
    "print(\"File Size(GB):\",round(os.path.getsize(yellow_trip_file)/gb_div,3))"
   ]
  },
  {
   "cell_type": "code",
   "execution_count": 56,
   "metadata": {
    "ExecuteTime": {
     "end_time": "2019-10-12T16:21:54.938399Z",
     "start_time": "2019-10-12T16:21:54.917611Z"
    }
   },
   "outputs": [
    {
     "data": {
      "text/html": [
       "<div>\n",
       "<style scoped>\n",
       "    .dataframe tbody tr th:only-of-type {\n",
       "        vertical-align: middle;\n",
       "    }\n",
       "\n",
       "    .dataframe tbody tr th {\n",
       "        vertical-align: top;\n",
       "    }\n",
       "\n",
       "    .dataframe thead th {\n",
       "        text-align: right;\n",
       "    }\n",
       "</style>\n",
       "<table border=\"1\" class=\"dataframe\">\n",
       "  <thead>\n",
       "    <tr style=\"text-align: right;\">\n",
       "      <th></th>\n",
       "      <th>vendor_id</th>\n",
       "      <th>pickup_datetime</th>\n",
       "      <th>dropoff_datetime</th>\n",
       "      <th>passenger_count</th>\n",
       "      <th>trip_distance</th>\n",
       "      <th>pickup_longitude</th>\n",
       "      <th>pickup_latitude</th>\n",
       "      <th>rate_code</th>\n",
       "      <th>store_and_fwd_flag</th>\n",
       "      <th>dropoff_longitude</th>\n",
       "      <th>dropoff_latitude</th>\n",
       "      <th>payment_type</th>\n",
       "      <th>fare_amount</th>\n",
       "      <th>surcharge</th>\n",
       "      <th>mta_tax</th>\n",
       "      <th>tip_amount</th>\n",
       "      <th>tolls_amount</th>\n",
       "      <th>total_amount</th>\n",
       "    </tr>\n",
       "  </thead>\n",
       "  <tbody>\n",
       "    <tr>\n",
       "      <td>0</td>\n",
       "      <td>CMT</td>\n",
       "      <td>2010-06-18 10:43:46</td>\n",
       "      <td>2010-06-18 11:22:12</td>\n",
       "      <td>4</td>\n",
       "      <td>20.0</td>\n",
       "      <td>-73.972894</td>\n",
       "      <td>40.792810</td>\n",
       "      <td>2</td>\n",
       "      <td>0.0</td>\n",
       "      <td>-73.776308</td>\n",
       "      <td>40.645528</td>\n",
       "      <td>Cas</td>\n",
       "      <td>45.0</td>\n",
       "      <td>0.0</td>\n",
       "      <td>0.5</td>\n",
       "      <td>0.0</td>\n",
       "      <td>4.57</td>\n",
       "      <td>50.07</td>\n",
       "    </tr>\n",
       "    <tr>\n",
       "      <td>1</td>\n",
       "      <td>CMT</td>\n",
       "      <td>2010-06-26 15:02:57</td>\n",
       "      <td>2010-06-26 15:07:15</td>\n",
       "      <td>1</td>\n",
       "      <td>0.7</td>\n",
       "      <td>-73.987815</td>\n",
       "      <td>40.748480</td>\n",
       "      <td>1</td>\n",
       "      <td>0.0</td>\n",
       "      <td>-73.977535</td>\n",
       "      <td>40.753880</td>\n",
       "      <td>Cas</td>\n",
       "      <td>4.5</td>\n",
       "      <td>0.0</td>\n",
       "      <td>0.5</td>\n",
       "      <td>0.0</td>\n",
       "      <td>0.00</td>\n",
       "      <td>5.00</td>\n",
       "    </tr>\n",
       "    <tr>\n",
       "      <td>2</td>\n",
       "      <td>CMT</td>\n",
       "      <td>2010-06-24 07:36:37</td>\n",
       "      <td>2010-06-24 07:43:29</td>\n",
       "      <td>1</td>\n",
       "      <td>1.0</td>\n",
       "      <td>-74.006497</td>\n",
       "      <td>40.732921</td>\n",
       "      <td>1</td>\n",
       "      <td>0.0</td>\n",
       "      <td>-73.998122</td>\n",
       "      <td>40.725982</td>\n",
       "      <td>Cas</td>\n",
       "      <td>5.7</td>\n",
       "      <td>0.0</td>\n",
       "      <td>0.5</td>\n",
       "      <td>0.0</td>\n",
       "      <td>0.00</td>\n",
       "      <td>6.20</td>\n",
       "    </tr>\n",
       "    <tr>\n",
       "      <td>3</td>\n",
       "      <td>CMT</td>\n",
       "      <td>2010-06-23 18:42:21</td>\n",
       "      <td>2010-06-23 18:55:41</td>\n",
       "      <td>2</td>\n",
       "      <td>3.5</td>\n",
       "      <td>-73.987534</td>\n",
       "      <td>40.733397</td>\n",
       "      <td>1</td>\n",
       "      <td>0.0</td>\n",
       "      <td>-73.951097</td>\n",
       "      <td>40.770543</td>\n",
       "      <td>Cre</td>\n",
       "      <td>10.9</td>\n",
       "      <td>1.0</td>\n",
       "      <td>0.5</td>\n",
       "      <td>1.0</td>\n",
       "      <td>0.00</td>\n",
       "      <td>13.40</td>\n",
       "    </tr>\n",
       "    <tr>\n",
       "      <td>4</td>\n",
       "      <td>CMT</td>\n",
       "      <td>2010-06-23 14:10:43</td>\n",
       "      <td>2010-06-23 14:17:02</td>\n",
       "      <td>1</td>\n",
       "      <td>1.2</td>\n",
       "      <td>-73.955832</td>\n",
       "      <td>40.779476</td>\n",
       "      <td>1</td>\n",
       "      <td>0.0</td>\n",
       "      <td>-73.968117</td>\n",
       "      <td>40.765118</td>\n",
       "      <td>Cas</td>\n",
       "      <td>5.7</td>\n",
       "      <td>0.0</td>\n",
       "      <td>0.5</td>\n",
       "      <td>0.0</td>\n",
       "      <td>0.00</td>\n",
       "      <td>6.20</td>\n",
       "    </tr>\n",
       "  </tbody>\n",
       "</table>\n",
       "</div>"
      ],
      "text/plain": [
       "  vendor_id     pickup_datetime    dropoff_datetime  passenger_count  \\\n",
       "0       CMT 2010-06-18 10:43:46 2010-06-18 11:22:12                4   \n",
       "1       CMT 2010-06-26 15:02:57 2010-06-26 15:07:15                1   \n",
       "2       CMT 2010-06-24 07:36:37 2010-06-24 07:43:29                1   \n",
       "3       CMT 2010-06-23 18:42:21 2010-06-23 18:55:41                2   \n",
       "4       CMT 2010-06-23 14:10:43 2010-06-23 14:17:02                1   \n",
       "\n",
       "   trip_distance  pickup_longitude  pickup_latitude  rate_code  \\\n",
       "0           20.0        -73.972894        40.792810          2   \n",
       "1            0.7        -73.987815        40.748480          1   \n",
       "2            1.0        -74.006497        40.732921          1   \n",
       "3            3.5        -73.987534        40.733397          1   \n",
       "4            1.2        -73.955832        40.779476          1   \n",
       "\n",
       "   store_and_fwd_flag  dropoff_longitude  dropoff_latitude payment_type  \\\n",
       "0                 0.0         -73.776308         40.645528          Cas   \n",
       "1                 0.0         -73.977535         40.753880          Cas   \n",
       "2                 0.0         -73.998122         40.725982          Cas   \n",
       "3                 0.0         -73.951097         40.770543          Cre   \n",
       "4                 0.0         -73.968117         40.765118          Cas   \n",
       "\n",
       "   fare_amount  surcharge  mta_tax  tip_amount  tolls_amount  total_amount  \n",
       "0         45.0        0.0      0.5         0.0          4.57         50.07  \n",
       "1          4.5        0.0      0.5         0.0          0.00          5.00  \n",
       "2          5.7        0.0      0.5         0.0          0.00          6.20  \n",
       "3         10.9        1.0      0.5         1.0          0.00         13.40  \n",
       "4          5.7        0.0      0.5         0.0          0.00          6.20  "
      ]
     },
     "execution_count": 56,
     "metadata": {},
     "output_type": "execute_result"
    }
   ],
   "source": [
    "yellow_trip.head()"
   ]
  },
  {
   "cell_type": "markdown",
   "metadata": {},
   "source": [
    "## TODO: \n",
    "- Find CLI for streaming csv files to different formats. "
   ]
  }
 ],
 "metadata": {
  "kernelspec": {
   "display_name": "Python 3",
   "language": "python",
   "name": "python3"
  },
  "language_info": {
   "codemirror_mode": {
    "name": "ipython",
    "version": 3
   },
   "file_extension": ".py",
   "mimetype": "text/x-python",
   "name": "python",
   "nbconvert_exporter": "python",
   "pygments_lexer": "ipython3",
   "version": "3.7.4"
  },
  "toc": {
   "nav_menu": {},
   "number_sections": true,
   "sideBar": true,
   "skip_h1_title": false,
   "toc_cell": false,
   "toc_position": {},
   "toc_section_display": "block",
   "toc_window_display": false
  }
 },
 "nbformat": 4,
 "nbformat_minor": 4
}
