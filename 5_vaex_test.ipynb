{
 "cells": [
  {
   "cell_type": "markdown",
   "metadata": {},
   "source": [
    "# Vaex Experiments "
   ]
  },
  {
   "cell_type": "code",
   "execution_count": 1,
   "metadata": {
    "ExecuteTime": {
     "end_time": "2019-10-12T20:48:59.948819Z",
     "start_time": "2019-10-12T20:48:59.587289Z"
    }
   },
   "outputs": [],
   "source": [
    "import os\n",
    "import sys\n",
    "import yaml\n",
    "import json\n",
    "import numpy as np\n",
    "\n",
    "with open(\"config.yaml\", 'r') as yml_file:\n",
    "    cfg = yaml.safe_load(yml_file)\n",
    "    \n",
    "#Get data path from config \n",
    "data_path = cfg['brian_laptop']['data_path']\n",
    "mb_div = cfg['constant']['mb_div']\n",
    "gb_div = cfg['constant']['gb_div']\n",
    "\n",
    "#Get dyype for meta file \n",
    "meta_data_file = os.path.join(data_path, cfg['data']['metadata'])\n",
    "with open(meta_data_file) as f:\n",
    "    meta_data = json.load(f)"
   ]
  },
  {
   "cell_type": "code",
   "execution_count": 2,
   "metadata": {
    "ExecuteTime": {
     "end_time": "2019-10-12T20:49:01.861578Z",
     "start_time": "2019-10-12T20:49:00.243896Z"
    }
   },
   "outputs": [
    {
     "name": "stdout",
     "output_type": "stream",
     "text": [
      "1.0.0-beta.6\n"
     ]
    }
   ],
   "source": [
    "import vaex\n",
    "print(vaex.__version__)\n",
    "import datetime as dt"
   ]
  },
  {
   "cell_type": "markdown",
   "metadata": {},
   "source": [
    "## Open Files "
   ]
  },
  {
   "cell_type": "markdown",
   "metadata": {},
   "source": [
    "- Not run for CSV files\n",
    "- Not run for hdf files "
   ]
  },
  {
   "cell_type": "code",
   "execution_count": 3,
   "metadata": {
    "ExecuteTime": {
     "end_time": "2019-10-12T20:49:28.819216Z",
     "start_time": "2019-10-12T20:49:26.498817Z"
    }
   },
   "outputs": [],
   "source": [
    "#parquet_snappy\n",
    "yellow_taxi_file = os.path.join(data_path, cfg['data']['nyc_yellow_trip_parquet_snappy'])\n",
    "yellow_taxi = vaex.open(yellow_taxi_file)"
   ]
  },
  {
   "cell_type": "code",
   "execution_count": 4,
   "metadata": {
    "ExecuteTime": {
     "end_time": "2019-10-12T20:49:32.199308Z",
     "start_time": "2019-10-12T20:49:28.820956Z"
    },
    "code_folding": []
   },
   "outputs": [],
   "source": [
    "#parquet_gzip\n",
    "yellow_taxi_file = os.path.join(data_path, cfg['data']['nyc_yellow_trip_parquet_gzip'])\n",
    "yellow_taxi = vaex.open(yellow_taxi_file)"
   ]
  },
  {
   "cell_type": "code",
   "execution_count": 5,
   "metadata": {
    "ExecuteTime": {
     "end_time": "2019-10-12T20:49:32.252093Z",
     "start_time": "2019-10-12T20:49:32.201856Z"
    }
   },
   "outputs": [],
   "source": [
    "### hdf5\n",
    "yellow_taxi_file = os.path.join(data_path, cfg['data']['nyc_yellow_trip_hdf5'])\n",
    "yellow_taxi = vaex.open(yellow_taxi_file)"
   ]
  },
  {
   "cell_type": "code",
   "execution_count": 6,
   "metadata": {
    "ExecuteTime": {
     "end_time": "2019-10-12T20:49:32.287045Z",
     "start_time": "2019-10-12T20:49:32.254081Z"
    }
   },
   "outputs": [
    {
     "data": {
      "text/html": [
       "<table>\n",
       "<thead>\n",
       "<tr><th>#                                     </th><th>vendor_id  </th><th>pickup_datetime              </th><th>dropoff_datetime             </th><th>passenger_count  </th><th>trip_distance  </th><th>pickup_longitude  </th><th>pickup_latitude  </th><th>rate_code  </th><th>store_and_fwd_flag  </th><th>dropoff_longitude  </th><th>dropoff_latitude  </th><th>payment_type  </th><th>fare_amount  </th><th>surcharge  </th><th>mta_tax  </th><th>tip_amount  </th><th>tolls_amount  </th><th>total_amount  </th><th>index   </th></tr>\n",
       "</thead>\n",
       "<tbody>\n",
       "<tr><td><i style='opacity: 0.6'>0</i>         </td><td>CMT        </td><td>2010-06-18 10:43:46.000000000</td><td>2010-06-18 11:22:12.000000000</td><td>4                </td><td>20.0           </td><td>-73.97289399999998</td><td>40.79281         </td><td>2          </td><td>0.0                 </td><td>-73.776308         </td><td>40.645528         </td><td>Cas           </td><td>45.0         </td><td>0.0        </td><td>0.5      </td><td>0.0         </td><td>4.57          </td><td>50.07         </td><td>0       </td></tr>\n",
       "<tr><td><i style='opacity: 0.6'>1</i>         </td><td>CMT        </td><td>2010-06-26 15:02:57.000000000</td><td>2010-06-26 15:07:15.000000000</td><td>1                </td><td>0.7            </td><td>-73.987815        </td><td>40.74848         </td><td>1          </td><td>0.0                 </td><td>-73.977535         </td><td>40.75388          </td><td>Cas           </td><td>4.5          </td><td>0.0        </td><td>0.5      </td><td>0.0         </td><td>0.0           </td><td>5.0           </td><td>1       </td></tr>\n",
       "<tr><td><i style='opacity: 0.6'>2</i>         </td><td>CMT        </td><td>2010-06-24 07:36:37.000000000</td><td>2010-06-24 07:43:29.000000000</td><td>1                </td><td>1.0            </td><td>-74.00649699999998</td><td>40.732921        </td><td>1          </td><td>0.0                 </td><td>-73.99812199999998 </td><td>40.725982         </td><td>Cas           </td><td>5.7          </td><td>0.0        </td><td>0.5      </td><td>0.0         </td><td>0.0           </td><td>6.2           </td><td>2       </td></tr>\n",
       "<tr><td><i style='opacity: 0.6'>3</i>         </td><td>CMT        </td><td>2010-06-23 18:42:21.000000000</td><td>2010-06-23 18:55:41.000000000</td><td>2                </td><td>3.5            </td><td>-73.98753399999998</td><td>40.733397        </td><td>1          </td><td>0.0                 </td><td>-73.951097         </td><td>40.770543         </td><td>Cre           </td><td>10.9         </td><td>1.0        </td><td>0.5      </td><td>1.0         </td><td>0.0           </td><td>13.4          </td><td>3       </td></tr>\n",
       "<tr><td><i style='opacity: 0.6'>4</i>         </td><td>CMT        </td><td>2010-06-23 14:10:43.000000000</td><td>2010-06-23 14:17:02.000000000</td><td>1                </td><td>1.2            </td><td>-73.955832        </td><td>40.779476        </td><td>1          </td><td>0.0                 </td><td>-73.968117         </td><td>40.765118         </td><td>Cas           </td><td>5.7          </td><td>0.0        </td><td>0.5      </td><td>0.0         </td><td>0.0           </td><td>6.2           </td><td>4       </td></tr>\n",
       "<tr><td>...                                   </td><td>...        </td><td>...                          </td><td>...                          </td><td>...              </td><td>...            </td><td>...               </td><td>...              </td><td>...        </td><td>...                 </td><td>...                </td><td>...               </td><td>...           </td><td>...          </td><td>...        </td><td>...      </td><td>...         </td><td>...           </td><td>...           </td><td>...     </td></tr>\n",
       "<tr><td><i style='opacity: 0.6'>14,825,123</i></td><td>VTS        </td><td>2010-06-03 12:59:00.000000000</td><td>2010-06-03 13:30:00.000000000</td><td>1                </td><td>5.08           </td><td>-73.994533        </td><td>40.750563        </td><td>1          </td><td>nan                 </td><td>-73.944355         </td><td>40.798977         </td><td>CAS           </td><td>18.9         </td><td>0.0        </td><td>0.5      </td><td>0.0         </td><td>0.0           </td><td>19.4          </td><td>14825123</td></tr>\n",
       "<tr><td><i style='opacity: 0.6'>14,825,124</i></td><td>VTS        </td><td>2010-06-05 17:51:00.000000000</td><td>2010-06-05 17:59:00.000000000</td><td>2                </td><td>2.06           </td><td>-73.982848        </td><td>40.769117        </td><td>1          </td><td>nan                 </td><td>-74.001272         </td><td>40.752168         </td><td>CAS           </td><td>7.3          </td><td>0.0        </td><td>0.5      </td><td>0.0         </td><td>0.0           </td><td>7.8           </td><td>14825124</td></tr>\n",
       "<tr><td><i style='opacity: 0.6'>14,825,125</i></td><td>VTS        </td><td>2010-06-15 08:58:00.000000000</td><td>2010-06-15 09:09:00.000000000</td><td>1                </td><td>2.31           </td><td>-74.00044         </td><td>40.73736         </td><td>1          </td><td>nan                 </td><td>-73.97934499999998 </td><td>40.762668         </td><td>CAS           </td><td>8.5          </td><td>0.0        </td><td>0.5      </td><td>0.0         </td><td>0.0           </td><td>9.0           </td><td>14825125</td></tr>\n",
       "<tr><td><i style='opacity: 0.6'>14,825,126</i></td><td>VTS        </td><td>2010-06-05 15:31:00.000000000</td><td>2010-06-05 15:34:00.000000000</td><td>1                </td><td>0.5            </td><td>-73.982557        </td><td>40.742827        </td><td>1          </td><td>nan                 </td><td>-73.974788         </td><td>40.741175         </td><td>CAS           </td><td>3.3          </td><td>0.0        </td><td>0.5      </td><td>0.0         </td><td>0.0           </td><td>3.8           </td><td>14825126</td></tr>\n",
       "<tr><td><i style='opacity: 0.6'>14,825,127</i></td><td>VTS        </td><td>2010-06-05 11:10:00.000000000</td><td>2010-06-05 11:20:00.000000000</td><td>1                </td><td>1.47           </td><td>-73.994122        </td><td>40.751227        </td><td>1          </td><td>nan                 </td><td>-73.97960999999998 </td><td>40.765978         </td><td>Cre           </td><td>6.9          </td><td>0.0        </td><td>0.5      </td><td>2.0         </td><td>0.0           </td><td>9.4           </td><td>14825127</td></tr>\n",
       "</tbody>\n",
       "</table>"
      ],
      "text/plain": [
       "#           vendor_id    pickup_datetime                dropoff_datetime               passenger_count    trip_distance    pickup_longitude    pickup_latitude    rate_code    store_and_fwd_flag    dropoff_longitude    dropoff_latitude    payment_type    fare_amount    surcharge    mta_tax    tip_amount    tolls_amount    total_amount    index\n",
       "0           CMT          2010-06-18 10:43:46.000000000  2010-06-18 11:22:12.000000000  4                  20.0             -73.97289399999998  40.79281           2            0.0                   -73.776308           40.645528           Cas             45.0           0.0          0.5        0.0           4.57            50.07           0\n",
       "1           CMT          2010-06-26 15:02:57.000000000  2010-06-26 15:07:15.000000000  1                  0.7              -73.987815          40.74848           1            0.0                   -73.977535           40.75388            Cas             4.5            0.0          0.5        0.0           0.0             5.0             1\n",
       "2           CMT          2010-06-24 07:36:37.000000000  2010-06-24 07:43:29.000000000  1                  1.0              -74.00649699999998  40.732921          1            0.0                   -73.99812199999998   40.725982           Cas             5.7            0.0          0.5        0.0           0.0             6.2             2\n",
       "3           CMT          2010-06-23 18:42:21.000000000  2010-06-23 18:55:41.000000000  2                  3.5              -73.98753399999998  40.733397          1            0.0                   -73.951097           40.770543           Cre             10.9           1.0          0.5        1.0           0.0             13.4            3\n",
       "4           CMT          2010-06-23 14:10:43.000000000  2010-06-23 14:17:02.000000000  1                  1.2              -73.955832          40.779476          1            0.0                   -73.968117           40.765118           Cas             5.7            0.0          0.5        0.0           0.0             6.2             4\n",
       "...         ...          ...                            ...                            ...                ...              ...                 ...                ...          ...                   ...                  ...                 ...             ...            ...          ...        ...           ...             ...             ...\n",
       "14,825,123  VTS          2010-06-03 12:59:00.000000000  2010-06-03 13:30:00.000000000  1                  5.08             -73.994533          40.750563          1            nan                   -73.944355           40.798977           CAS             18.9           0.0          0.5        0.0           0.0             19.4            14825123\n",
       "14,825,124  VTS          2010-06-05 17:51:00.000000000  2010-06-05 17:59:00.000000000  2                  2.06             -73.982848          40.769117          1            nan                   -74.001272           40.752168           CAS             7.3            0.0          0.5        0.0           0.0             7.8             14825124\n",
       "14,825,125  VTS          2010-06-15 08:58:00.000000000  2010-06-15 09:09:00.000000000  1                  2.31             -74.00044           40.73736           1            nan                   -73.97934499999998   40.762668           CAS             8.5            0.0          0.5        0.0           0.0             9.0             14825125\n",
       "14,825,126  VTS          2010-06-05 15:31:00.000000000  2010-06-05 15:34:00.000000000  1                  0.5              -73.982557          40.742827          1            nan                   -73.974788           40.741175           CAS             3.3            0.0          0.5        0.0           0.0             3.8             14825126\n",
       "14,825,127  VTS          2010-06-05 11:10:00.000000000  2010-06-05 11:20:00.000000000  1                  1.47             -73.994122          40.751227          1            nan                   -73.97960999999998   40.765978           Cre             6.9            0.0          0.5        2.0           0.0             9.4             14825127"
      ]
     },
     "execution_count": 6,
     "metadata": {},
     "output_type": "execute_result"
    }
   ],
   "source": [
    "yellow_taxi #only shows what is needed"
   ]
  },
  {
   "cell_type": "markdown",
   "metadata": {},
   "source": [
    "## Summary"
   ]
  },
  {
   "cell_type": "code",
   "execution_count": 7,
   "metadata": {
    "ExecuteTime": {
     "end_time": "2019-10-12T20:49:36.758298Z",
     "start_time": "2019-10-12T20:49:32.288686Z"
    }
   },
   "outputs": [
    {
     "data": {
      "text/html": [
       "<div>\n",
       "<style scoped>\n",
       "    .dataframe tbody tr th:only-of-type {\n",
       "        vertical-align: middle;\n",
       "    }\n",
       "\n",
       "    .dataframe tbody tr th {\n",
       "        vertical-align: top;\n",
       "    }\n",
       "\n",
       "    .dataframe thead th {\n",
       "        text-align: right;\n",
       "    }\n",
       "</style>\n",
       "<table border=\"1\" class=\"dataframe\">\n",
       "  <thead>\n",
       "    <tr style=\"text-align: right;\">\n",
       "      <th></th>\n",
       "      <th>vendor_id</th>\n",
       "      <th>pickup_datetime</th>\n",
       "      <th>dropoff_datetime</th>\n",
       "      <th>passenger_count</th>\n",
       "      <th>trip_distance</th>\n",
       "      <th>pickup_longitude</th>\n",
       "      <th>pickup_latitude</th>\n",
       "      <th>rate_code</th>\n",
       "      <th>store_and_fwd_flag</th>\n",
       "      <th>dropoff_longitude</th>\n",
       "      <th>dropoff_latitude</th>\n",
       "      <th>payment_type</th>\n",
       "      <th>fare_amount</th>\n",
       "      <th>surcharge</th>\n",
       "      <th>mta_tax</th>\n",
       "      <th>tip_amount</th>\n",
       "      <th>tolls_amount</th>\n",
       "      <th>total_amount</th>\n",
       "      <th>index</th>\n",
       "    </tr>\n",
       "  </thead>\n",
       "  <tbody>\n",
       "    <tr>\n",
       "      <td>dtype</td>\n",
       "      <td>str</td>\n",
       "      <td>datetime64[ns]</td>\n",
       "      <td>datetime64[ns]</td>\n",
       "      <td>int64</td>\n",
       "      <td>float64</td>\n",
       "      <td>float64</td>\n",
       "      <td>float64</td>\n",
       "      <td>int64</td>\n",
       "      <td>float64</td>\n",
       "      <td>float64</td>\n",
       "      <td>float64</td>\n",
       "      <td>str</td>\n",
       "      <td>float64</td>\n",
       "      <td>float64</td>\n",
       "      <td>float64</td>\n",
       "      <td>float64</td>\n",
       "      <td>float64</td>\n",
       "      <td>float64</td>\n",
       "      <td>int64</td>\n",
       "    </tr>\n",
       "    <tr>\n",
       "      <td>count</td>\n",
       "      <td>14825128</td>\n",
       "      <td>14825128</td>\n",
       "      <td>14825128</td>\n",
       "      <td>14825128</td>\n",
       "      <td>14825128</td>\n",
       "      <td>14825128</td>\n",
       "      <td>14825128</td>\n",
       "      <td>14825128</td>\n",
       "      <td>6670024</td>\n",
       "      <td>14825128</td>\n",
       "      <td>14825128</td>\n",
       "      <td>14825128</td>\n",
       "      <td>14825128</td>\n",
       "      <td>14825128</td>\n",
       "      <td>14825128</td>\n",
       "      <td>14825128</td>\n",
       "      <td>14825128</td>\n",
       "      <td>14825128</td>\n",
       "      <td>14825128</td>\n",
       "    </tr>\n",
       "    <tr>\n",
       "      <td>NA</td>\n",
       "      <td>0</td>\n",
       "      <td>0</td>\n",
       "      <td>0</td>\n",
       "      <td>0</td>\n",
       "      <td>0</td>\n",
       "      <td>0</td>\n",
       "      <td>0</td>\n",
       "      <td>0</td>\n",
       "      <td>8155104</td>\n",
       "      <td>0</td>\n",
       "      <td>0</td>\n",
       "      <td>0</td>\n",
       "      <td>0</td>\n",
       "      <td>0</td>\n",
       "      <td>0</td>\n",
       "      <td>0</td>\n",
       "      <td>0</td>\n",
       "      <td>0</td>\n",
       "      <td>0</td>\n",
       "    </tr>\n",
       "    <tr>\n",
       "      <td>mean</td>\n",
       "      <td>--</td>\n",
       "      <td>1970-01-01T00:02:14.126225803</td>\n",
       "      <td>1970-01-01T00:14:26.621764458</td>\n",
       "      <td>1.6725135863919691</td>\n",
       "      <td>2.804791597077461</td>\n",
       "      <td>-72.39904007221098</td>\n",
       "      <td>39.924888414135566</td>\n",
       "      <td>1.0348641846465</td>\n",
       "      <td>0.012675216760839242</td>\n",
       "      <td>-72.4265420091987</td>\n",
       "      <td>39.94008418099149</td>\n",
       "      <td>--</td>\n",
       "      <td>10.122361278768738</td>\n",
       "      <td>0.3287443271990636</td>\n",
       "      <td>0.4982612629044417</td>\n",
       "      <td>0.7899387593821198</td>\n",
       "      <td>0.18942537764280223</td>\n",
       "      <td>11.931144237004627</td>\n",
       "      <td>7412563.5</td>\n",
       "    </tr>\n",
       "    <tr>\n",
       "      <td>std</td>\n",
       "      <td>--</td>\n",
       "      <td>7.43865e+14</td>\n",
       "      <td>7.43864e+14</td>\n",
       "      <td>1.28233</td>\n",
       "      <td>3.23032</td>\n",
       "      <td>10.7638</td>\n",
       "      <td>10.6181</td>\n",
       "      <td>0.350489</td>\n",
       "      <td>0.111868</td>\n",
       "      <td>10.6059</td>\n",
       "      <td>10.6221</td>\n",
       "      <td>--</td>\n",
       "      <td>7.99042</td>\n",
       "      <td>0.369467</td>\n",
       "      <td>0.0294337</td>\n",
       "      <td>1.5956</td>\n",
       "      <td>0.963193</td>\n",
       "      <td>9.38099</td>\n",
       "      <td>4.27965e+06</td>\n",
       "    </tr>\n",
       "    <tr>\n",
       "      <td>min</td>\n",
       "      <td>--</td>\n",
       "      <td>2010-05-31T23:58:57.653309440</td>\n",
       "      <td>2010-05-31T23:58:57.653309440</td>\n",
       "      <td>0</td>\n",
       "      <td>0</td>\n",
       "      <td>-884.851</td>\n",
       "      <td>-3579.14</td>\n",
       "      <td>0</td>\n",
       "      <td>0</td>\n",
       "      <td>-772.75</td>\n",
       "      <td>-3538.43</td>\n",
       "      <td>--</td>\n",
       "      <td>2.5</td>\n",
       "      <td>0</td>\n",
       "      <td>0</td>\n",
       "      <td>0</td>\n",
       "      <td>0</td>\n",
       "      <td>2.5</td>\n",
       "      <td>0</td>\n",
       "    </tr>\n",
       "    <tr>\n",
       "      <td>max</td>\n",
       "      <td>--</td>\n",
       "      <td>2010-07-01T00:00:36.315791360</td>\n",
       "      <td>2010-07-01T12:43:23.487297536</td>\n",
       "      <td>208</td>\n",
       "      <td>50</td>\n",
       "      <td>3569.93</td>\n",
       "      <td>1963.52</td>\n",
       "      <td>210</td>\n",
       "      <td>1</td>\n",
       "      <td>1036.4</td>\n",
       "      <td>1963.52</td>\n",
       "      <td>--</td>\n",
       "      <td>200</td>\n",
       "      <td>8.05</td>\n",
       "      <td>0.5</td>\n",
       "      <td>100</td>\n",
       "      <td>20</td>\n",
       "      <td>235.9</td>\n",
       "      <td>14825127</td>\n",
       "    </tr>\n",
       "  </tbody>\n",
       "</table>\n",
       "</div>"
      ],
      "text/plain": [
       "      vendor_id                pickup_datetime               dropoff_datetime  \\\n",
       "dtype       str                 datetime64[ns]                 datetime64[ns]   \n",
       "count  14825128                       14825128                       14825128   \n",
       "NA            0                              0                              0   \n",
       "mean         --  1970-01-01T00:02:14.126225803  1970-01-01T00:14:26.621764458   \n",
       "std          --                    7.43865e+14                    7.43864e+14   \n",
       "min          --  2010-05-31T23:58:57.653309440  2010-05-31T23:58:57.653309440   \n",
       "max          --  2010-07-01T00:00:36.315791360  2010-07-01T12:43:23.487297536   \n",
       "\n",
       "          passenger_count      trip_distance    pickup_longitude  \\\n",
       "dtype               int64            float64             float64   \n",
       "count            14825128           14825128            14825128   \n",
       "NA                      0                  0                   0   \n",
       "mean   1.6725135863919691  2.804791597077461  -72.39904007221098   \n",
       "std               1.28233            3.23032             10.7638   \n",
       "min                     0                  0            -884.851   \n",
       "max                   208                 50             3569.93   \n",
       "\n",
       "          pickup_latitude        rate_code    store_and_fwd_flag  \\\n",
       "dtype             float64            int64               float64   \n",
       "count            14825128         14825128               6670024   \n",
       "NA                      0                0               8155104   \n",
       "mean   39.924888414135566  1.0348641846465  0.012675216760839242   \n",
       "std               10.6181         0.350489              0.111868   \n",
       "min              -3579.14                0                     0   \n",
       "max               1963.52              210                     1   \n",
       "\n",
       "       dropoff_longitude   dropoff_latitude payment_type         fare_amount  \\\n",
       "dtype            float64            float64          str             float64   \n",
       "count           14825128           14825128     14825128            14825128   \n",
       "NA                     0                  0            0                   0   \n",
       "mean   -72.4265420091987  39.94008418099149           --  10.122361278768738   \n",
       "std              10.6059            10.6221           --             7.99042   \n",
       "min              -772.75           -3538.43           --                 2.5   \n",
       "max               1036.4            1963.52           --                 200   \n",
       "\n",
       "                surcharge             mta_tax          tip_amount  \\\n",
       "dtype             float64             float64             float64   \n",
       "count            14825128            14825128            14825128   \n",
       "NA                      0                   0                   0   \n",
       "mean   0.3287443271990636  0.4982612629044417  0.7899387593821198   \n",
       "std              0.369467           0.0294337              1.5956   \n",
       "min                     0                   0                   0   \n",
       "max                  8.05                 0.5                 100   \n",
       "\n",
       "              tolls_amount        total_amount        index  \n",
       "dtype              float64             float64        int64  \n",
       "count             14825128            14825128     14825128  \n",
       "NA                       0                   0            0  \n",
       "mean   0.18942537764280223  11.931144237004627    7412563.5  \n",
       "std               0.963193             9.38099  4.27965e+06  \n",
       "min                      0                 2.5            0  \n",
       "max                     20               235.9     14825127  "
      ]
     },
     "execution_count": 7,
     "metadata": {},
     "output_type": "execute_result"
    }
   ],
   "source": [
    "# Takes some time \n",
    "yellow_taxi.describe()"
   ]
  },
  {
   "cell_type": "markdown",
   "metadata": {},
   "source": [
    "## Expressions and Virtual Columns "
   ]
  },
  {
   "cell_type": "code",
   "execution_count": 8,
   "metadata": {
    "ExecuteTime": {
     "end_time": "2019-10-12T20:49:36.765841Z",
     "start_time": "2019-10-12T20:49:36.760474Z"
    }
   },
   "outputs": [
    {
     "data": {
      "text/plain": [
       "Expression = (tip_amount / total_amount)\n",
       "Length: 14,825,128 dtype: float64 (expression)\n",
       "----------------------------------------------\n",
       "       0          0\n",
       "       1          0\n",
       "       2          0\n",
       "       3  0.0746269\n",
       "       4          0\n",
       "        ...        \n",
       "14825123          0\n",
       "14825124          0\n",
       "14825125          0\n",
       "14825126          0\n",
       "14825127   0.212766"
      ]
     },
     "execution_count": 8,
     "metadata": {},
     "output_type": "execute_result"
    }
   ],
   "source": [
    "# First and last five values only\n",
    "yellow_taxi.tip_amount / yellow_taxi.total_amount"
   ]
  },
  {
   "cell_type": "code",
   "execution_count": 9,
   "metadata": {
    "ExecuteTime": {
     "end_time": "2019-10-12T20:49:36.770571Z",
     "start_time": "2019-10-12T20:49:36.767759Z"
    }
   },
   "outputs": [],
   "source": [
    "yellow_taxi['tip_percentage'] = yellow_taxi.tip_amount / yellow_taxi.total_amount"
   ]
  },
  {
   "cell_type": "code",
   "execution_count": 10,
   "metadata": {
    "ExecuteTime": {
     "end_time": "2019-10-12T20:49:36.889589Z",
     "start_time": "2019-10-12T20:49:36.773807Z"
    }
   },
   "outputs": [
    {
     "data": {
      "text/plain": [
       "array(0.05513952)"
      ]
     },
     "execution_count": 10,
     "metadata": {},
     "output_type": "execute_result"
    }
   ],
   "source": [
    "yellow_taxi['tip_percentage'].mean()"
   ]
  },
  {
   "cell_type": "markdown",
   "metadata": {},
   "source": [
    "## Value Count"
   ]
  },
  {
   "cell_type": "code",
   "execution_count": 11,
   "metadata": {
    "ExecuteTime": {
     "end_time": "2019-10-12T20:49:36.932774Z",
     "start_time": "2019-10-12T20:49:36.891959Z"
    }
   },
   "outputs": [
    {
     "data": {
      "text/plain": [
       "1      10207628\n",
       "2       2293152\n",
       "5       1262078\n",
       "3        680684\n",
       "4        323814\n",
       "6         57696\n",
       "0            39\n",
       "208          35\n",
       "133           1\n",
       "9             1\n",
       "dtype: int64"
      ]
     },
     "execution_count": 11,
     "metadata": {},
     "output_type": "execute_result"
    }
   ],
   "source": [
    "yellow_taxi.passenger_count.value_counts()"
   ]
  },
  {
   "cell_type": "code",
   "execution_count": 12,
   "metadata": {
    "ExecuteTime": {
     "end_time": "2019-10-12T20:49:36.944334Z",
     "start_time": "2019-10-12T20:49:36.934713Z"
    }
   },
   "outputs": [
    {
     "data": {
      "text/plain": [
       "Expression = dt_day_name(pickup_datetime)\n",
       "Length: 14,825,128 dtype: str (expression)\n",
       "------------------------------------------\n",
       "       0     Friday\n",
       "       1   Saturday\n",
       "       2   Thursday\n",
       "       3  Wednesday\n",
       "       4  Wednesday\n",
       "        ...        \n",
       "14825123   Thursday\n",
       "14825124   Saturday\n",
       "14825125    Tuesday\n",
       "14825126   Saturday\n",
       "14825127   Saturday"
      ]
     },
     "execution_count": 12,
     "metadata": {},
     "output_type": "execute_result"
    }
   ],
   "source": [
    "## Group_by\n",
    "yellow_taxi.pickup_datetime.dt.day_name"
   ]
  },
  {
   "cell_type": "markdown",
   "metadata": {},
   "source": [
    "## Dates"
   ]
  },
  {
   "cell_type": "code",
   "execution_count": 13,
   "metadata": {
    "ExecuteTime": {
     "end_time": "2019-10-12T20:49:36.957423Z",
     "start_time": "2019-10-12T20:49:36.948611Z"
    }
   },
   "outputs": [],
   "source": [
    "yellow_taxi['pu_day_of_week'] = yellow_taxi.pickup_datetime.dt.day_name\n",
    "yellow_taxi['pu_hour'] = yellow_taxi.pickup_datetime.dt.hour"
   ]
  },
  {
   "cell_type": "markdown",
   "metadata": {},
   "source": [
    "## Groupby"
   ]
  },
  {
   "cell_type": "code",
   "execution_count": 14,
   "metadata": {
    "ExecuteTime": {
     "end_time": "2019-10-12T20:49:40.286109Z",
     "start_time": "2019-10-12T20:49:39.820967Z"
    }
   },
   "outputs": [
    {
     "data": {
      "text/html": [
       "<table>\n",
       "<thead>\n",
       "<tr><th>#                             </th><th>pu_hour  </th><th>fare_amount       </th><th>tip_amount        </th><th>tip_percentage      </th></tr>\n",
       "</thead>\n",
       "<tbody>\n",
       "<tr><td><i style='opacity: 0.6'>0</i> </td><td>16       </td><td>10.444882046758021</td><td>0.787392007760463 </td><td>0.04911476127337431 </td></tr>\n",
       "<tr><td><i style='opacity: 0.6'>1</i> </td><td>10       </td><td>9.62861306325225  </td><td>0.7257686454028937</td><td>0.05437319442548463 </td></tr>\n",
       "<tr><td><i style='opacity: 0.6'>2</i> </td><td>14       </td><td>10.438686260632421</td><td>0.7451100014417018</td><td>0.05102339295269206 </td></tr>\n",
       "<tr><td><i style='opacity: 0.6'>3</i> </td><td>0        </td><td>10.71235068532423 </td><td>0.856506458995747 </td><td>0.05772593441455527 </td></tr>\n",
       "<tr><td><i style='opacity: 0.6'>4</i> </td><td>1        </td><td>10.379012590790973</td><td>0.8080855474169606</td><td>0.057444825145441095</td></tr>\n",
       "<tr><td>...                           </td><td>...      </td><td>...               </td><td>...               </td><td>...                 </td></tr>\n",
       "<tr><td><i style='opacity: 0.6'>19</i></td><td>17       </td><td>10.22208287394335 </td><td>0.7799384957952292</td><td>0.051260144851587836</td></tr>\n",
       "<tr><td><i style='opacity: 0.6'>20</i></td><td>21       </td><td>9.943440160893307 </td><td>0.8388010643274496</td><td>0.05944477155367505 </td></tr>\n",
       "<tr><td><i style='opacity: 0.6'>21</i></td><td>3        </td><td>10.77047735191637 </td><td>0.7858542467984964</td><td>0.05554667438399715 </td></tr>\n",
       "<tr><td><i style='opacity: 0.6'>22</i></td><td>5        </td><td>13.445920821114447</td><td>1.1033992668621682</td><td>0.051053362031657966</td></tr>\n",
       "<tr><td><i style='opacity: 0.6'>23</i></td><td>4        </td><td>12.128466028060258</td><td>0.8440256027684101</td><td>0.04882308330432533 </td></tr>\n",
       "</tbody>\n",
       "</table>"
      ],
      "text/plain": [
       "#    pu_hour    fare_amount         tip_amount          tip_percentage\n",
       "0    16         10.444882046758021  0.787392007760463   0.04911476127337431\n",
       "1    10         9.62861306325225    0.7257686454028937  0.05437319442548463\n",
       "2    14         10.438686260632421  0.7451100014417018  0.05102339295269206\n",
       "3    0          10.71235068532423   0.856506458995747   0.05772593441455527\n",
       "4    1          10.379012590790973  0.8080855474169606  0.057444825145441095\n",
       "...  ...        ...                 ...                 ...\n",
       "19   17         10.22208287394335   0.7799384957952292  0.051260144851587836\n",
       "20   21         9.943440160893307   0.8388010643274496  0.05944477155367505\n",
       "21   3          10.77047735191637   0.7858542467984964  0.05554667438399715\n",
       "22   5          13.445920821114447  1.1033992668621682  0.051053362031657966\n",
       "23   4          12.128466028060258  0.8440256027684101  0.04882308330432533"
      ]
     },
     "execution_count": 14,
     "metadata": {},
     "output_type": "execute_result"
    }
   ],
   "source": [
    "# Pandas like API gor gorupby\n",
    "#Need to check out binby\n",
    "result = yellow_taxi.groupby(by = yellow_taxi.pu_hour).agg(\n",
    "    {'fare_amount' :'mean',\n",
    "    'tip_amount' :'mean',\n",
    "    'tip_percentage':'mean'})\n",
    "\n",
    "result"
   ]
  },
  {
   "cell_type": "markdown",
   "metadata": {},
   "source": [
    "## VAEX INTERESTING BITS ## "
   ]
  },
  {
   "cell_type": "markdown",
   "metadata": {},
   "source": [
    "### Plotting"
   ]
  },
  {
   "cell_type": "code",
   "execution_count": 15,
   "metadata": {
    "ExecuteTime": {
     "end_time": "2019-10-12T20:49:42.376531Z",
     "start_time": "2019-10-12T20:49:42.056312Z"
    }
   },
   "outputs": [
    {
     "data": {
      "image/png": "[encoded data removed]",
      "text/plain": [
       "<Figure size 432x288 with 2 Axes>"
      ]
     },
     "metadata": {
      "needs_background": "light"
     },
     "output_type": "display_data"
    }
   ],
   "source": [
    "yellow_taxi.plot(yellow_taxi.pickup_longitude, \n",
    "                 yellow_taxi.pickup_latitude, \n",
    "                 f=\"log1p\", \n",
    "                 show=True, \n",
    "                 limits=\"minmax\");"
   ]
  },
  {
   "cell_type": "code",
   "execution_count": 16,
   "metadata": {
    "ExecuteTime": {
     "end_time": "2019-10-12T20:49:45.199503Z",
     "start_time": "2019-10-12T20:49:44.790257Z"
    }
   },
   "outputs": [
    {
     "data": {
      "application/vnd.jupyter.widget-view+json": {
       "model_id": "0ebe95dea4f343f18c3b3891d27b6191",
       "version_major": 2,
       "version_minor": 0
      },
      "text/plain": [
       "PlotTemplate(components={'main-widget': VBox(children=(VBox(children=(Figure(axes=[Axis(color='#666', grid_col…"
      ]
     },
     "metadata": {},
     "output_type": "display_data"
    },
    {
     "data": {
      "text/plain": [
       "Plot2dDefault(w=None, what='count(*)', x='pickup_longitude', y='pickup_latitude', z=None)"
      ]
     },
     "metadata": {},
     "output_type": "display_data"
    }
   ],
   "source": [
    "yellow_taxi.plot_widget(yellow_taxi.pickup_longitude,\n",
    "                       yellow_taxi.pickup_latitude,\n",
    "                       f=\"log1p\",\n",
    "                       colormap='plasma',\n",
    "                       limits = \"minmax\")"
   ]
  },
  {
   "cell_type": "markdown",
   "metadata": {},
   "source": [
    "### Machine Learning"
   ]
  },
  {
   "cell_type": "code",
   "execution_count": 17,
   "metadata": {
    "ExecuteTime": {
     "end_time": "2019-10-12T20:52:42.609576Z",
     "start_time": "2019-10-12T20:52:42.607504Z"
    }
   },
   "outputs": [],
   "source": [
    "#TODO\n",
    "# Save the state as json and apply to test/new dataset like a pipeline. \n",
    "# PCA, Clustering, XGBoost"
   ]
  },
  {
   "cell_type": "code",
   "execution_count": 18,
   "metadata": {
    "ExecuteTime": {
     "end_time": "2019-10-12T20:52:43.015670Z",
     "start_time": "2019-10-12T20:52:43.013170Z"
    }
   },
   "outputs": [],
   "source": [
    "#Read up on Xarray - http://xarray.pydata.org/en/stable/"
   ]
  },
  {
   "cell_type": "markdown",
   "metadata": {},
   "source": [
    "### Billion Rows "
   ]
  },
  {
   "cell_type": "code",
   "execution_count": 20,
   "metadata": {
    "ExecuteTime": {
     "end_time": "2019-10-12T21:10:02.750304Z",
     "start_time": "2019-10-12T21:10:02.745549Z"
    },
    "scrolled": true
   },
   "outputs": [
    {
     "name": "stdout",
     "output_type": "stream",
     "text": [
      "File Size(GB): 145.273\n"
     ]
    }
   ],
   "source": [
    "df_file = os.path.join(data_path, cfg['data']['nyc_taxi_all_hdfs'])\n",
    "print(\"File Size(GB):\",round(os.path.getsize(df_file)/gb_div,3))"
   ]
  },
  {
   "cell_type": "code",
   "execution_count": 22,
   "metadata": {
    "ExecuteTime": {
     "end_time": "2019-10-12T21:10:25.367049Z",
     "start_time": "2019-10-12T21:10:25.325202Z"
    }
   },
   "outputs": [],
   "source": [
    "df = vaex.open(df_file)"
   ]
  },
  {
   "cell_type": "code",
   "execution_count": 23,
   "metadata": {
    "ExecuteTime": {
     "end_time": "2019-10-12T21:10:30.581203Z",
     "start_time": "2019-10-12T21:10:30.544276Z"
    }
   },
   "outputs": [
    {
     "data": {
      "text/html": [
       "<table>\n",
       "<thead>\n",
       "<tr><th>#                                        </th><th>dropoff_dayofweek  </th><th>dropoff_hour  </th><th>dropoff_latitude  </th><th>dropoff_longitude  </th><th>fare_amount  </th><th>mta_tax  </th><th>passenger_count  </th><th>payment_type  </th><th>pickup_dayofweek  </th><th>pickup_hour  </th><th>pickup_latitude   </th><th>pickup_longitude  </th><th>tip_amount  </th><th>tolls_amount  </th><th>total_amount  </th><th>tpep_dropoff_datetime        </th><th>tpep_pickup_datetime         </th><th>trip_distance  </th></tr>\n",
       "</thead>\n",
       "<tbody>\n",
       "<tr><td><i style='opacity: 0.6'>0</i>            </td><td>3.0                </td><td>19.0          </td><td>40.75061798095703 </td><td>-73.97478485107422 </td><td>12.0         </td><td>0.5      </td><td>1                </td><td>1             </td><td>3.0               </td><td>19.0         </td><td>40.7501106262207  </td><td>-73.993896484375  </td><td>3.25        </td><td>0.0           </td><td>17.05         </td><td>2015-01-15 19:23:42.000000000</td><td>2015-01-15 19:05:39.000000000</td><td>1.59           </td></tr>\n",
       "<tr><td><i style='opacity: 0.6'>1</i>            </td><td>5.0                </td><td>20.0          </td><td>40.75910949707031 </td><td>-73.99441528320312 </td><td>14.5         </td><td>0.5      </td><td>1                </td><td>1             </td><td>5.0               </td><td>20.0         </td><td>40.7242431640625  </td><td>-74.00164794921875</td><td>2.0         </td><td>0.0           </td><td>17.8          </td><td>2015-01-10 20:53:28.000000000</td><td>2015-01-10 20:33:38.000000000</td><td>3.3            </td></tr>\n",
       "<tr><td><i style='opacity: 0.6'>2</i>            </td><td>5.0                </td><td>20.0          </td><td>40.82441329956055 </td><td>-73.95182037353516 </td><td>9.5          </td><td>0.5      </td><td>1                </td><td>2             </td><td>5.0               </td><td>20.0         </td><td>40.80278778076172 </td><td>-73.96334075927734</td><td>0.0         </td><td>0.0           </td><td>10.8          </td><td>2015-01-10 20:43:41.000000000</td><td>2015-01-10 20:33:38.000000000</td><td>1.8            </td></tr>\n",
       "<tr><td><i style='opacity: 0.6'>3</i>            </td><td>5.0                </td><td>20.0          </td><td>40.71998596191406 </td><td>-74.00432586669923 </td><td>3.5          </td><td>0.5      </td><td>1                </td><td>2             </td><td>5.0               </td><td>20.0         </td><td>40.71381759643555 </td><td>-74.00908660888672</td><td>0.0         </td><td>0.0           </td><td>4.8           </td><td>2015-01-10 20:35:31.000000000</td><td>2015-01-10 20:33:39.000000000</td><td>0.5            </td></tr>\n",
       "<tr><td><i style='opacity: 0.6'>4</i>            </td><td>5.0                </td><td>20.0          </td><td>40.742652893066406</td><td>-74.00418090820312 </td><td>15.0         </td><td>0.5      </td><td>1                </td><td>2             </td><td>5.0               </td><td>20.0         </td><td>40.762428283691406</td><td>-73.97117614746094</td><td>0.0         </td><td>0.0           </td><td>16.3          </td><td>2015-01-10 20:52:58.000000000</td><td>2015-01-10 20:33:39.000000000</td><td>3.0            </td></tr>\n",
       "<tr><td>...                                      </td><td>...                </td><td>...           </td><td>...               </td><td>...                </td><td>...          </td><td>...      </td><td>...              </td><td>...           </td><td>...               </td><td>...          </td><td>...               </td><td>...               </td><td>...         </td><td>...           </td><td>...           </td><td>...                          </td><td>...                          </td><td>...            </td></tr>\n",
       "<tr><td><i style='opacity: 0.6'>1,008,842,980</i></td><td>5.0                </td><td>8.0           </td><td>40.774517         </td><td>-73.870063         </td><td>28.1         </td><td>0.5      </td><td>1                </td><td>0             </td><td>5.0               </td><td>8.0          </td><td>40.771608         </td><td>-73.98265999999998</td><td>0.0         </td><td>5.5           </td><td>34.1          </td><td>2010-03-20 08:41:00.000000000</td><td>2010-03-20 08:15:00.000000000</td><td>11.15          </td></tr>\n",
       "<tr><td><i style='opacity: 0.6'>1,008,842,981</i></td><td>1.0                </td><td>14.0          </td><td>40.757468         </td><td>-73.97167          </td><td>7.3          </td><td>0.5      </td><td>1                </td><td>1             </td><td>1.0               </td><td>14.0         </td><td>40.759042         </td><td>-73.98585         </td><td>0.0         </td><td>0.0           </td><td>7.8           </td><td>2010-03-16 14:41:00.000000000</td><td>2010-03-16 14:30:00.000000000</td><td>1.02           </td></tr>\n",
       "<tr><td><i style='opacity: 0.6'>1,008,842,982</i></td><td>4.0                </td><td>22.0          </td><td>40.754197         </td><td>-73.991538         </td><td>3.3          </td><td>0.5      </td><td>1                </td><td>1             </td><td>4.0               </td><td>22.0         </td><td>40.75184          </td><td>-73.98651499999998</td><td>0.0         </td><td>0.0           </td><td>4.3           </td><td>2010-03-19 22:40:00.000000000</td><td>2010-03-19 22:38:00.000000000</td><td>0.31           </td></tr>\n",
       "<tr><td><i style='opacity: 0.6'>1,008,842,983</i></td><td>3.0                </td><td>14.0          </td><td>40.738565         </td><td>-73.98636          </td><td>5.3          </td><td>0.5      </td><td>2                </td><td>0             </td><td>3.0               </td><td>14.0         </td><td>40.742438         </td><td>-73.977537        </td><td>2.0         </td><td>0.0           </td><td>7.8           </td><td>2010-03-18 14:47:00.000000000</td><td>2010-03-18 14:41:00.000000000</td><td>0.72           </td></tr>\n",
       "<tr><td><i style='opacity: 0.6'>1,008,842,984</i></td><td>4.0                </td><td>19.0          </td><td>40.744073         </td><td>-73.991922         </td><td>5.7          </td><td>0.5      </td><td>5                </td><td>1             </td><td>4.0               </td><td>19.0         </td><td>40.726877         </td><td>-74.00341799999998</td><td>0.0         </td><td>0.0           </td><td>7.2           </td><td>2010-03-19 19:21:00.000000000</td><td>2010-03-19 19:14:00.000000000</td><td>1.37           </td></tr>\n",
       "</tbody>\n",
       "</table>"
      ],
      "text/plain": [
       "#              dropoff_dayofweek    dropoff_hour    dropoff_latitude    dropoff_longitude    fare_amount    mta_tax    passenger_count    payment_type    pickup_dayofweek    pickup_hour    pickup_latitude     pickup_longitude    tip_amount    tolls_amount    total_amount    tpep_dropoff_datetime          tpep_pickup_datetime           trip_distance\n",
       "0              3.0                  19.0            40.75061798095703   -73.97478485107422   12.0           0.5        1                  1               3.0                 19.0           40.7501106262207    -73.993896484375    3.25          0.0             17.05           2015-01-15 19:23:42.000000000  2015-01-15 19:05:39.000000000  1.59\n",
       "1              5.0                  20.0            40.75910949707031   -73.99441528320312   14.5           0.5        1                  1               5.0                 20.0           40.7242431640625    -74.00164794921875  2.0           0.0             17.8            2015-01-10 20:53:28.000000000  2015-01-10 20:33:38.000000000  3.3\n",
       "2              5.0                  20.0            40.82441329956055   -73.95182037353516   9.5            0.5        1                  2               5.0                 20.0           40.80278778076172   -73.96334075927734  0.0           0.0             10.8            2015-01-10 20:43:41.000000000  2015-01-10 20:33:38.000000000  1.8\n",
       "3              5.0                  20.0            40.71998596191406   -74.00432586669923   3.5            0.5        1                  2               5.0                 20.0           40.71381759643555   -74.00908660888672  0.0           0.0             4.8             2015-01-10 20:35:31.000000000  2015-01-10 20:33:39.000000000  0.5\n",
       "4              5.0                  20.0            40.742652893066406  -74.00418090820312   15.0           0.5        1                  2               5.0                 20.0           40.762428283691406  -73.97117614746094  0.0           0.0             16.3            2015-01-10 20:52:58.000000000  2015-01-10 20:33:39.000000000  3.0\n",
       "...            ...                  ...             ...                 ...                  ...            ...        ...                ...             ...                 ...            ...                 ...                 ...           ...             ...             ...                            ...                            ...\n",
       "1,008,842,980  5.0                  8.0             40.774517           -73.870063           28.1           0.5        1                  0               5.0                 8.0            40.771608           -73.98265999999998  0.0           5.5             34.1            2010-03-20 08:41:00.000000000  2010-03-20 08:15:00.000000000  11.15\n",
       "1,008,842,981  1.0                  14.0            40.757468           -73.97167            7.3            0.5        1                  1               1.0                 14.0           40.759042           -73.98585           0.0           0.0             7.8             2010-03-16 14:41:00.000000000  2010-03-16 14:30:00.000000000  1.02\n",
       "1,008,842,982  4.0                  22.0            40.754197           -73.991538           3.3            0.5        1                  1               4.0                 22.0           40.75184            -73.98651499999998  0.0           0.0             4.3             2010-03-19 22:40:00.000000000  2010-03-19 22:38:00.000000000  0.31\n",
       "1,008,842,983  3.0                  14.0            40.738565           -73.98636            5.3            0.5        2                  0               3.0                 14.0           40.742438           -73.977537          2.0           0.0             7.8             2010-03-18 14:47:00.000000000  2010-03-18 14:41:00.000000000  0.72\n",
       "1,008,842,984  4.0                  19.0            40.744073           -73.991922           5.7            0.5        5                  1               4.0                 19.0           40.726877           -74.00341799999998  0.0           0.0             7.2             2010-03-19 19:21:00.000000000  2010-03-19 19:14:00.000000000  1.37"
      ]
     },
     "execution_count": 23,
     "metadata": {},
     "output_type": "execute_result"
    }
   ],
   "source": [
    "df"
   ]
  },
  {
   "cell_type": "code",
   "execution_count": 24,
   "metadata": {
    "ExecuteTime": {
     "end_time": "2019-10-12T21:11:19.151731Z",
     "start_time": "2019-10-12T21:11:08.711749Z"
    }
   },
   "outputs": [
    {
     "data": {
      "text/plain": [
       "1      700943378\n",
       "2      146304008\n",
       "5       67406302\n",
       "3       43864181\n",
       "6       25120458\n",
       "4       21291754\n",
       "0        3910825\n",
       "208          869\n",
       "7            440\n",
       "9            358\n",
       "8            320\n",
       "49            26\n",
       "10            17\n",
       "255            5\n",
       "129            4\n",
       "250            3\n",
       "33             2\n",
       "65             2\n",
       "15             2\n",
       "58             2\n",
       "25             1\n",
       "19             1\n",
       "177            1\n",
       "193            1\n",
       "163            1\n",
       "211            1\n",
       "34             1\n",
       "225            1\n",
       "229            1\n",
       "232            1\n",
       "247            1\n",
       "249            1\n",
       "223            1\n",
       "37             1\n",
       "36             1\n",
       "160            1\n",
       "47             1\n",
       "169            1\n",
       "51             1\n",
       "61             1\n",
       "254            1\n",
       "70             1\n",
       "91             1\n",
       "97             1\n",
       "125            1\n",
       "133            1\n",
       "137            1\n",
       "141            1\n",
       "66             1\n",
       "dtype: int64"
      ]
     },
     "execution_count": 24,
     "metadata": {},
     "output_type": "execute_result"
    }
   ],
   "source": [
    "df.passenger_count.value_counts()"
   ]
  },
  {
   "cell_type": "code",
   "execution_count": null,
   "metadata": {},
   "outputs": [],
   "source": []
  }
 ],
 "metadata": {
  "kernelspec": {
   "display_name": "Python 3",
   "language": "python",
   "name": "python3"
  },
  "language_info": {
   "codemirror_mode": {
    "name": "ipython",
    "version": 3
   },
   "file_extension": ".py",
   "mimetype": "text/x-python",
   "name": "python",
   "nbconvert_exporter": "python",
   "pygments_lexer": "ipython3",
   "version": "3.7.4"
  },
  "toc": {
   "nav_menu": {},
   "number_sections": true,
   "sideBar": true,
   "skip_h1_title": false,
   "toc_cell": false,
   "toc_position": {},
   "toc_section_display": "none",
   "toc_window_display": false
  }
 },
 "nbformat": 4,
 "nbformat_minor": 4
}
