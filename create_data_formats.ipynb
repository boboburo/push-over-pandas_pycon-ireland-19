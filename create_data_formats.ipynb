{
 "cells": [
  {
   "cell_type": "code",
   "execution_count": 39,
   "metadata": {},
   "outputs": [],
   "source": [
    "import os\n",
    "import sys\n",
    "import yaml\n",
    "import json\n",
    "import numpy as np\n",
    "\n",
    "with open(\"config.yaml\", 'r') as yml_file:\n",
    "    cfg = yaml.safe_load(yml_file)\n",
    "    \n",
    "#Get data path from config \n",
    "data_path = cfg['brian_laptop']['data_path']\n",
    "mb_div = cfg['contants']['mb_div']\n",
    "\n",
    "#Get dyype for meta file \n",
    "meta_data_file = os.path.join(data_path, cfg['data']['metadata'])\n",
    "with open(meta_data_file) as f:\n",
    "    meta_data = json.load(f)"
   ]
  },
  {
   "cell_type": "code",
   "execution_count": 29,
   "metadata": {},
   "outputs": [
    {
     "name": "stdout",
     "output_type": "stream",
     "text": [
      "0.25.1\n"
     ]
    }
   ],
   "source": [
    "import pandas as pd\n",
    "print(pd.__version__)\n",
    "import datetime as dt"
   ]
  },
  {
   "cell_type": "code",
   "execution_count": 30,
   "metadata": {},
   "outputs": [
    {
     "name": "stdout",
     "output_type": "stream",
     "text": [
      "CPU times: user 45.8 s, sys: 19.2 s, total: 1min 5s\n",
      "Wall time: 1min 4s\n"
     ]
    }
   ],
   "source": [
    "%%time\n",
    "\n",
    "yellow_trip_file = os.path.join(data_path, cfg['data']['nyc_yellow_trip_csv'])\n",
    "yellow_trip = pd.read_csv(yellow_trip_file)"
   ]
  },
  {
   "cell_type": "code",
   "execution_count": 32,
   "metadata": {},
   "outputs": [],
   "source": [
    "yellow_trip_out_file = os.path.join(data_path, cfg['data']['nyc_yellow_trip_parquet_gzip'])\n",
    "yellow_trip.to_parquet(yellow_trip_out_file, compression = \"gzip\")\n",
    "#yellow_trip_out_file  = os.path.join(data_path, cfg['data']['nyc_yellow_trip_hdf'])\n",
    "#yellow_trip.to_hdf(yellow_trip_out_file, key = \"2010_06\", mode = \"w\")"
   ]
  },
  {
   "cell_type": "code",
   "execution_count": 17,
   "metadata": {},
   "outputs": [
    {
     "data": {
      "text/plain": [
       "14825128"
      ]
     },
     "execution_count": 17,
     "metadata": {},
     "output_type": "execute_result"
    }
   ],
   "source": [
    "len(yellow_trip)"
   ]
  },
  {
   "cell_type": "code",
   "execution_count": null,
   "metadata": {},
   "outputs": [],
   "source": [
    "%%time\n",
    "\n",
    "#Take out the parse dates as to0 slow. \n",
    "nyc_taxi_fare_file = os.path.join(data_path, cfg['data']['kaggle_nyc'])\n",
    "nyc_taxi_fare_dtype = dict(zip(meta_data['kaggle_nyc']['colnames'], meta_data['kaggle_nyc']['dtype']))\n",
    "nyc_taxi_fare = pd.read_csv(nyc_taxi_fare_file, \n",
    "                            dtype = nyc_taxi_fare_dtype)"
   ]
  },
  {
   "cell_type": "code",
   "execution_count": 33,
   "metadata": {},
   "outputs": [
    {
     "name": "stdout",
     "output_type": "stream",
     "text": [
      "CPU times: user 24.3 s, sys: 7.98 s, total: 32.3 s\n",
      "Wall time: 21.1 s\n"
     ]
    }
   ],
   "source": [
    "%%time\n",
    "\n",
    "yellow_trip_parquet = os.path.join(data_path, cfg['data']['nyc_yellow_trip_parquet_gzip'])\n",
    "yellow_trip = pd.read_parquet(yellow_trip_parquet)"
   ]
  },
  {
   "cell_type": "code",
   "execution_count": 19,
   "metadata": {},
   "outputs": [],
   "source": [
    "del(yellow_trip_file)"
   ]
  },
  {
   "cell_type": "code",
   "execution_count": 34,
   "metadata": {},
   "outputs": [
    {
     "data": {
      "text/html": [
       "<div>\n",
       "<style scoped>\n",
       "    .dataframe tbody tr th:only-of-type {\n",
       "        vertical-align: middle;\n",
       "    }\n",
       "\n",
       "    .dataframe tbody tr th {\n",
       "        vertical-align: top;\n",
       "    }\n",
       "\n",
       "    .dataframe thead th {\n",
       "        text-align: right;\n",
       "    }\n",
       "</style>\n",
       "<table border=\"1\" class=\"dataframe\">\n",
       "  <thead>\n",
       "    <tr style=\"text-align: right;\">\n",
       "      <th></th>\n",
       "      <th>vendor_id</th>\n",
       "      <th>pickup_datetime</th>\n",
       "      <th>dropoff_datetime</th>\n",
       "      <th>passenger_count</th>\n",
       "      <th>trip_distance</th>\n",
       "      <th>pickup_longitude</th>\n",
       "      <th>pickup_latitude</th>\n",
       "      <th>rate_code</th>\n",
       "      <th>store_and_fwd_flag</th>\n",
       "      <th>dropoff_longitude</th>\n",
       "      <th>dropoff_latitude</th>\n",
       "      <th>payment_type</th>\n",
       "      <th>fare_amount</th>\n",
       "      <th>surcharge</th>\n",
       "      <th>mta_tax</th>\n",
       "      <th>tip_amount</th>\n",
       "      <th>tolls_amount</th>\n",
       "      <th>total_amount</th>\n",
       "    </tr>\n",
       "  </thead>\n",
       "  <tbody>\n",
       "    <tr>\n",
       "      <td>0</td>\n",
       "      <td>CMT</td>\n",
       "      <td>2010-06-18 10:43:46</td>\n",
       "      <td>2010-06-18 11:22:12</td>\n",
       "      <td>4</td>\n",
       "      <td>20.0</td>\n",
       "      <td>-73.972894</td>\n",
       "      <td>40.792810</td>\n",
       "      <td>2</td>\n",
       "      <td>0.0</td>\n",
       "      <td>-73.776308</td>\n",
       "      <td>40.645528</td>\n",
       "      <td>Cas</td>\n",
       "      <td>45.0</td>\n",
       "      <td>0.0</td>\n",
       "      <td>0.5</td>\n",
       "      <td>0.0</td>\n",
       "      <td>4.57</td>\n",
       "      <td>50.07</td>\n",
       "    </tr>\n",
       "    <tr>\n",
       "      <td>1</td>\n",
       "      <td>CMT</td>\n",
       "      <td>2010-06-26 15:02:57</td>\n",
       "      <td>2010-06-26 15:07:15</td>\n",
       "      <td>1</td>\n",
       "      <td>0.7</td>\n",
       "      <td>-73.987815</td>\n",
       "      <td>40.748480</td>\n",
       "      <td>1</td>\n",
       "      <td>0.0</td>\n",
       "      <td>-73.977535</td>\n",
       "      <td>40.753880</td>\n",
       "      <td>Cas</td>\n",
       "      <td>4.5</td>\n",
       "      <td>0.0</td>\n",
       "      <td>0.5</td>\n",
       "      <td>0.0</td>\n",
       "      <td>0.00</td>\n",
       "      <td>5.00</td>\n",
       "    </tr>\n",
       "    <tr>\n",
       "      <td>2</td>\n",
       "      <td>CMT</td>\n",
       "      <td>2010-06-24 07:36:37</td>\n",
       "      <td>2010-06-24 07:43:29</td>\n",
       "      <td>1</td>\n",
       "      <td>1.0</td>\n",
       "      <td>-74.006497</td>\n",
       "      <td>40.732921</td>\n",
       "      <td>1</td>\n",
       "      <td>0.0</td>\n",
       "      <td>-73.998122</td>\n",
       "      <td>40.725982</td>\n",
       "      <td>Cas</td>\n",
       "      <td>5.7</td>\n",
       "      <td>0.0</td>\n",
       "      <td>0.5</td>\n",
       "      <td>0.0</td>\n",
       "      <td>0.00</td>\n",
       "      <td>6.20</td>\n",
       "    </tr>\n",
       "    <tr>\n",
       "      <td>3</td>\n",
       "      <td>CMT</td>\n",
       "      <td>2010-06-23 18:42:21</td>\n",
       "      <td>2010-06-23 18:55:41</td>\n",
       "      <td>2</td>\n",
       "      <td>3.5</td>\n",
       "      <td>-73.987534</td>\n",
       "      <td>40.733397</td>\n",
       "      <td>1</td>\n",
       "      <td>0.0</td>\n",
       "      <td>-73.951097</td>\n",
       "      <td>40.770543</td>\n",
       "      <td>Cre</td>\n",
       "      <td>10.9</td>\n",
       "      <td>1.0</td>\n",
       "      <td>0.5</td>\n",
       "      <td>1.0</td>\n",
       "      <td>0.00</td>\n",
       "      <td>13.40</td>\n",
       "    </tr>\n",
       "    <tr>\n",
       "      <td>4</td>\n",
       "      <td>CMT</td>\n",
       "      <td>2010-06-23 14:10:43</td>\n",
       "      <td>2010-06-23 14:17:02</td>\n",
       "      <td>1</td>\n",
       "      <td>1.2</td>\n",
       "      <td>-73.955832</td>\n",
       "      <td>40.779476</td>\n",
       "      <td>1</td>\n",
       "      <td>0.0</td>\n",
       "      <td>-73.968117</td>\n",
       "      <td>40.765118</td>\n",
       "      <td>Cas</td>\n",
       "      <td>5.7</td>\n",
       "      <td>0.0</td>\n",
       "      <td>0.5</td>\n",
       "      <td>0.0</td>\n",
       "      <td>0.00</td>\n",
       "      <td>6.20</td>\n",
       "    </tr>\n",
       "  </tbody>\n",
       "</table>\n",
       "</div>"
      ],
      "text/plain": [
       "  vendor_id      pickup_datetime     dropoff_datetime  passenger_count  \\\n",
       "0       CMT  2010-06-18 10:43:46  2010-06-18 11:22:12                4   \n",
       "1       CMT  2010-06-26 15:02:57  2010-06-26 15:07:15                1   \n",
       "2       CMT  2010-06-24 07:36:37  2010-06-24 07:43:29                1   \n",
       "3       CMT  2010-06-23 18:42:21  2010-06-23 18:55:41                2   \n",
       "4       CMT  2010-06-23 14:10:43  2010-06-23 14:17:02                1   \n",
       "\n",
       "   trip_distance  pickup_longitude  pickup_latitude  rate_code  \\\n",
       "0           20.0        -73.972894        40.792810          2   \n",
       "1            0.7        -73.987815        40.748480          1   \n",
       "2            1.0        -74.006497        40.732921          1   \n",
       "3            3.5        -73.987534        40.733397          1   \n",
       "4            1.2        -73.955832        40.779476          1   \n",
       "\n",
       "   store_and_fwd_flag  dropoff_longitude  dropoff_latitude payment_type  \\\n",
       "0                 0.0         -73.776308         40.645528          Cas   \n",
       "1                 0.0         -73.977535         40.753880          Cas   \n",
       "2                 0.0         -73.998122         40.725982          Cas   \n",
       "3                 0.0         -73.951097         40.770543          Cre   \n",
       "4                 0.0         -73.968117         40.765118          Cas   \n",
       "\n",
       "   fare_amount  surcharge  mta_tax  tip_amount  tolls_amount  total_amount  \n",
       "0         45.0        0.0      0.5         0.0          4.57         50.07  \n",
       "1          4.5        0.0      0.5         0.0          0.00          5.00  \n",
       "2          5.7        0.0      0.5         0.0          0.00          6.20  \n",
       "3         10.9        1.0      0.5         1.0          0.00         13.40  \n",
       "4          5.7        0.0      0.5         0.0          0.00          6.20  "
      ]
     },
     "execution_count": 34,
     "metadata": {},
     "output_type": "execute_result"
    }
   ],
   "source": [
    "yellow_trip.head()"
   ]
  },
  {
   "cell_type": "code",
   "execution_count": 25,
   "metadata": {},
   "outputs": [
    {
     "name": "stdout",
     "output_type": "stream",
     "text": [
      "CPU times: user 7.02 s, sys: 9.46 s, total: 16.5 s\n",
      "Wall time: 18.7 s\n"
     ]
    }
   ],
   "source": [
    "%%time\n",
    "\n",
    "yellow_trip_hdf = os.path.join(data_path, cfg['data']['nyc_yellow_trip_hdf'])\n",
    "yellow_trip = pd.read_hdf(yellow_trip_hdf, key = \"2010_06\")"
   ]
  },
  {
   "cell_type": "code",
   "execution_count": 36,
   "metadata": {},
   "outputs": [
    {
     "data": {
      "text/html": [
       "<div>\n",
       "<style scoped>\n",
       "    .dataframe tbody tr th:only-of-type {\n",
       "        vertical-align: middle;\n",
       "    }\n",
       "\n",
       "    .dataframe tbody tr th {\n",
       "        vertical-align: top;\n",
       "    }\n",
       "\n",
       "    .dataframe thead th {\n",
       "        text-align: right;\n",
       "    }\n",
       "</style>\n",
       "<table border=\"1\" class=\"dataframe\">\n",
       "  <thead>\n",
       "    <tr style=\"text-align: right;\">\n",
       "      <th></th>\n",
       "      <th>vendor_id</th>\n",
       "      <th>pickup_datetime</th>\n",
       "      <th>dropoff_datetime</th>\n",
       "      <th>passenger_count</th>\n",
       "      <th>trip_distance</th>\n",
       "      <th>pickup_longitude</th>\n",
       "      <th>pickup_latitude</th>\n",
       "      <th>rate_code</th>\n",
       "      <th>store_and_fwd_flag</th>\n",
       "      <th>dropoff_longitude</th>\n",
       "      <th>dropoff_latitude</th>\n",
       "      <th>payment_type</th>\n",
       "      <th>fare_amount</th>\n",
       "      <th>surcharge</th>\n",
       "      <th>mta_tax</th>\n",
       "      <th>tip_amount</th>\n",
       "      <th>tolls_amount</th>\n",
       "      <th>total_amount</th>\n",
       "    </tr>\n",
       "  </thead>\n",
       "  <tbody>\n",
       "    <tr>\n",
       "      <td>0</td>\n",
       "      <td>CMT</td>\n",
       "      <td>2010-06-18 10:43:46</td>\n",
       "      <td>2010-06-18 11:22:12</td>\n",
       "      <td>4</td>\n",
       "      <td>20.0</td>\n",
       "      <td>-73.972894</td>\n",
       "      <td>40.792810</td>\n",
       "      <td>2</td>\n",
       "      <td>0.0</td>\n",
       "      <td>-73.776308</td>\n",
       "      <td>40.645528</td>\n",
       "      <td>Cas</td>\n",
       "      <td>45.0</td>\n",
       "      <td>0.0</td>\n",
       "      <td>0.5</td>\n",
       "      <td>0.0</td>\n",
       "      <td>4.57</td>\n",
       "      <td>50.07</td>\n",
       "    </tr>\n",
       "    <tr>\n",
       "      <td>1</td>\n",
       "      <td>CMT</td>\n",
       "      <td>2010-06-26 15:02:57</td>\n",
       "      <td>2010-06-26 15:07:15</td>\n",
       "      <td>1</td>\n",
       "      <td>0.7</td>\n",
       "      <td>-73.987815</td>\n",
       "      <td>40.748480</td>\n",
       "      <td>1</td>\n",
       "      <td>0.0</td>\n",
       "      <td>-73.977535</td>\n",
       "      <td>40.753880</td>\n",
       "      <td>Cas</td>\n",
       "      <td>4.5</td>\n",
       "      <td>0.0</td>\n",
       "      <td>0.5</td>\n",
       "      <td>0.0</td>\n",
       "      <td>0.00</td>\n",
       "      <td>5.00</td>\n",
       "    </tr>\n",
       "    <tr>\n",
       "      <td>2</td>\n",
       "      <td>CMT</td>\n",
       "      <td>2010-06-24 07:36:37</td>\n",
       "      <td>2010-06-24 07:43:29</td>\n",
       "      <td>1</td>\n",
       "      <td>1.0</td>\n",
       "      <td>-74.006497</td>\n",
       "      <td>40.732921</td>\n",
       "      <td>1</td>\n",
       "      <td>0.0</td>\n",
       "      <td>-73.998122</td>\n",
       "      <td>40.725982</td>\n",
       "      <td>Cas</td>\n",
       "      <td>5.7</td>\n",
       "      <td>0.0</td>\n",
       "      <td>0.5</td>\n",
       "      <td>0.0</td>\n",
       "      <td>0.00</td>\n",
       "      <td>6.20</td>\n",
       "    </tr>\n",
       "    <tr>\n",
       "      <td>3</td>\n",
       "      <td>CMT</td>\n",
       "      <td>2010-06-23 18:42:21</td>\n",
       "      <td>2010-06-23 18:55:41</td>\n",
       "      <td>2</td>\n",
       "      <td>3.5</td>\n",
       "      <td>-73.987534</td>\n",
       "      <td>40.733397</td>\n",
       "      <td>1</td>\n",
       "      <td>0.0</td>\n",
       "      <td>-73.951097</td>\n",
       "      <td>40.770543</td>\n",
       "      <td>Cre</td>\n",
       "      <td>10.9</td>\n",
       "      <td>1.0</td>\n",
       "      <td>0.5</td>\n",
       "      <td>1.0</td>\n",
       "      <td>0.00</td>\n",
       "      <td>13.40</td>\n",
       "    </tr>\n",
       "    <tr>\n",
       "      <td>4</td>\n",
       "      <td>CMT</td>\n",
       "      <td>2010-06-23 14:10:43</td>\n",
       "      <td>2010-06-23 14:17:02</td>\n",
       "      <td>1</td>\n",
       "      <td>1.2</td>\n",
       "      <td>-73.955832</td>\n",
       "      <td>40.779476</td>\n",
       "      <td>1</td>\n",
       "      <td>0.0</td>\n",
       "      <td>-73.968117</td>\n",
       "      <td>40.765118</td>\n",
       "      <td>Cas</td>\n",
       "      <td>5.7</td>\n",
       "      <td>0.0</td>\n",
       "      <td>0.5</td>\n",
       "      <td>0.0</td>\n",
       "      <td>0.00</td>\n",
       "      <td>6.20</td>\n",
       "    </tr>\n",
       "  </tbody>\n",
       "</table>\n",
       "</div>"
      ],
      "text/plain": [
       "  vendor_id      pickup_datetime     dropoff_datetime  passenger_count  \\\n",
       "0       CMT  2010-06-18 10:43:46  2010-06-18 11:22:12                4   \n",
       "1       CMT  2010-06-26 15:02:57  2010-06-26 15:07:15                1   \n",
       "2       CMT  2010-06-24 07:36:37  2010-06-24 07:43:29                1   \n",
       "3       CMT  2010-06-23 18:42:21  2010-06-23 18:55:41                2   \n",
       "4       CMT  2010-06-23 14:10:43  2010-06-23 14:17:02                1   \n",
       "\n",
       "   trip_distance  pickup_longitude  pickup_latitude  rate_code  \\\n",
       "0           20.0        -73.972894        40.792810          2   \n",
       "1            0.7        -73.987815        40.748480          1   \n",
       "2            1.0        -74.006497        40.732921          1   \n",
       "3            3.5        -73.987534        40.733397          1   \n",
       "4            1.2        -73.955832        40.779476          1   \n",
       "\n",
       "   store_and_fwd_flag  dropoff_longitude  dropoff_latitude payment_type  \\\n",
       "0                 0.0         -73.776308         40.645528          Cas   \n",
       "1                 0.0         -73.977535         40.753880          Cas   \n",
       "2                 0.0         -73.998122         40.725982          Cas   \n",
       "3                 0.0         -73.951097         40.770543          Cre   \n",
       "4                 0.0         -73.968117         40.765118          Cas   \n",
       "\n",
       "   fare_amount  surcharge  mta_tax  tip_amount  tolls_amount  total_amount  \n",
       "0         45.0        0.0      0.5         0.0          4.57         50.07  \n",
       "1          4.5        0.0      0.5         0.0          0.00          5.00  \n",
       "2          5.7        0.0      0.5         0.0          0.00          6.20  \n",
       "3         10.9        1.0      0.5         1.0          0.00         13.40  \n",
       "4          5.7        0.0      0.5         0.0          0.00          6.20  "
      ]
     },
     "execution_count": 36,
     "metadata": {},
     "output_type": "execute_result"
    }
   ],
   "source": [
    "yellow_trip.head()"
   ]
  },
  {
   "cell_type": "code",
   "execution_count": null,
   "metadata": {},
   "outputs": [],
   "source": [
    "import datatable as dt\n",
    "print(dt.__version__)"
   ]
  },
  {
   "cell_type": "code",
   "execution_count": 35,
   "metadata": {},
   "outputs": [
    {
     "name": "stdout",
     "output_type": "stream",
     "text": [
      "1.0.0-beta.6\n"
     ]
    }
   ],
   "source": [
    "import vaex\n",
    "print(vaex.__version__)\n",
    "import datetime as dt"
   ]
  },
  {
   "cell_type": "code",
   "execution_count": 37,
   "metadata": {},
   "outputs": [
    {
     "data": {
      "text/plain": [
       "pandas.core.frame.DataFrame"
      ]
     },
     "execution_count": 37,
     "metadata": {},
     "output_type": "execute_result"
    }
   ],
   "source": [
    "type(yellow_trip)"
   ]
  },
  {
   "cell_type": "code",
   "execution_count": 38,
   "metadata": {},
   "outputs": [
    {
     "data": {
      "text/plain": [
       "vaex.dataframe.DataFrameArrays"
      ]
     },
     "execution_count": 38,
     "metadata": {},
     "output_type": "execute_result"
    }
   ],
   "source": [
    "df = vaex.from_pandas(yellow_trip)\n",
    "type(df)\n"
   ]
  },
  {
   "cell_type": "code",
   "execution_count": 40,
   "metadata": {},
   "outputs": [
    {
     "data": {
      "text/plain": [
       "'/Users/bcarte18/Documents/Learning/personal_git/push-over-pandas_pycon-ireland-19/data/yellow_tripdata_2010-06.hdf5'"
      ]
     },
     "execution_count": 40,
     "metadata": {},
     "output_type": "execute_result"
    }
   ],
   "source": [
    "yellow_trip_file = os.path.join(data_path, cfg['data']['nyc_yellow_trip_hdf5'])\n",
    "yellow_trip_file"
   ]
  },
  {
   "cell_type": "code",
   "execution_count": 41,
   "metadata": {},
   "outputs": [],
   "source": [
    "df.export_hdf5(yellow_trip_file)"
   ]
  },
  {
   "cell_type": "code",
   "execution_count": null,
   "metadata": {},
   "outputs": [],
   "source": []
  }
 ],
 "metadata": {
  "kernelspec": {
   "display_name": "Python 3",
   "language": "python",
   "name": "python3"
  },
  "language_info": {
   "codemirror_mode": {
    "name": "ipython",
    "version": 3
   },
   "file_extension": ".py",
   "mimetype": "text/x-python",
   "name": "python",
   "nbconvert_exporter": "python",
   "pygments_lexer": "ipython3",
   "version": "3.7.4"
  }
 },
 "nbformat": 4,
 "nbformat_minor": 4
}
