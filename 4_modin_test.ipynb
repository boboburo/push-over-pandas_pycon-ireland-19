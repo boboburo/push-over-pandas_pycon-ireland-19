{
 "cells": [
  {
   "cell_type": "code",
   "execution_count": 60,
   "metadata": {},
   "outputs": [],
   "source": [
    "import os\n",
    "import sys\n",
    "import yaml\n",
    "import json\n",
    "import numpy as np\n",
    "\n",
    "with open(\"config.yaml\", 'r') as yml_file:\n",
    "    cfg = yaml.safe_load(yml_file)\n",
    "    \n",
    "#Get data path from config \n",
    "data_path = cfg['brian_laptop']['data_path']\n",
    "mb_div = cfg['contants']['mb_div']\n",
    "\n",
    "#Get dyype for meta file \n",
    "meta_data_file = os.path.join(data_path, cfg['data']['metadata'])\n",
    "with open(meta_data_file) as f:\n",
    "    meta_data = json.load(f)"
   ]
  },
  {
   "cell_type": "code",
   "execution_count": 93,
   "metadata": {},
   "outputs": [
    {
     "name": "stderr",
     "output_type": "stream",
     "text": [
      "2019-10-06 17:43:40,349\tWARNING worker.py:1373 -- WARNING: Not updating worker name since `setproctitle` is not installed. Install this with `pip install setproctitle` (or ray[debug]) to enable monitoring of worker processes.\n",
      "2019-10-06 17:43:40,351\tINFO node.py:498 -- Process STDOUT and STDERR is being redirected to /tmp/ray/session_2019-10-06_17-43-40_351280_76380/logs.\n"
     ]
    },
    {
     "name": "stdout",
     "output_type": "stream",
     "text": [
      "0.7.3\n",
      "0.6.1\n"
     ]
    },
    {
     "name": "stderr",
     "output_type": "stream",
     "text": [
      "2019-10-06 17:43:40,466\tINFO services.py:409 -- Waiting for redis server at 127.0.0.1:35967 to respond...\n",
      "2019-10-06 17:43:40,589\tINFO services.py:409 -- Waiting for redis server at 127.0.0.1:11948 to respond...\n",
      "2019-10-06 17:43:40,596\tINFO services.py:809 -- Starting Redis shard with 3.44 GB max memory.\n",
      "2019-10-06 17:43:40,622\tINFO node.py:512 -- Process STDOUT and STDERR is being redirected to /tmp/ray/session_2019-10-06_17-43-40_351280_76380/logs.\n",
      "2019-10-06 17:43:40,626\tWARNING services.py:1330 -- WARNING: The default object store size of 5.15 GB will use more than 50% of the available memory on this node (6.61 GB). Consider setting the object store memory manually to a smaller size to avoid memory contention with other applications.\n",
      "2019-10-06 17:43:40,628\tINFO services.py:1475 -- Starting the Plasma object store with 5.15 GB memory using /tmp.\n"
     ]
    }
   ],
   "source": [
    "import ray\n",
    "import modin\n",
    "print(ray.__version__)\n",
    "print(modin.__version__)\n",
    "\n",
    "ray.shutdown()\n",
    "ray.init(num_cpus = 8)\n",
    "import modin.pandas as pd"
   ]
  },
  {
   "cell_type": "code",
   "execution_count": 22,
   "metadata": {},
   "outputs": [
    {
     "name": "stdout",
     "output_type": "stream",
     "text": [
      "CPU times: user 53.4 ms, sys: 17 ms, total: 70.3 ms\n",
      "Wall time: 1 s\n"
     ]
    }
   ],
   "source": [
    "%%time\n",
    "\n",
    "nyc_taxi_fare_file = os.path.join(data_path, cfg['data']['kaggle_nyc'])\n",
    "nyc_taxi_fare_dtype = dict(zip(meta_data['kaggle_nyc']['colnames'], meta_data['kaggle_nyc']['dtype']))\n",
    "\n",
    "#Note it doesn't like the parse datetime here. \n",
    "nyc_taxi_fare = pd.read_csv(nyc_taxi_fare_file, \n",
    "                            dtype = nyc_taxi_fare_dtype)"
   ]
  },
  {
   "cell_type": "code",
   "execution_count": 23,
   "metadata": {},
   "outputs": [
    {
     "data": {
      "text/plain": [
       "modin.pandas.dataframe.DataFrame"
      ]
     },
     "execution_count": 23,
     "metadata": {},
     "output_type": "execute_result"
    }
   ],
   "source": [
    "type(nyc_taxi_fare)"
   ]
  },
  {
   "cell_type": "code",
   "execution_count": 24,
   "metadata": {},
   "outputs": [
    {
     "data": {
      "text/html": [
       "<div>\n",
       "<style scoped>\n",
       "    .dataframe tbody tr th:only-of-type {\n",
       "        vertical-align: middle;\n",
       "    }\n",
       "\n",
       "    .dataframe tbody tr th {\n",
       "        vertical-align: top;\n",
       "    }\n",
       "\n",
       "    .dataframe thead th {\n",
       "        text-align: right;\n",
       "    }\n",
       "</style>\n",
       "<table border=\"1\" class=\"dataframe\">\n",
       "  <thead>\n",
       "    <tr style=\"text-align: right;\">\n",
       "      <th></th>\n",
       "      <th>key</th>\n",
       "      <th>fare_amount</th>\n",
       "      <th>pickup_datetime</th>\n",
       "      <th>pickup_longitude</th>\n",
       "      <th>pickup_latitude</th>\n",
       "      <th>dropoff_longitude</th>\n",
       "      <th>dropoff_latitude</th>\n",
       "      <th>passenger_count</th>\n",
       "    </tr>\n",
       "  </thead>\n",
       "  <tbody>\n",
       "    <tr>\n",
       "      <td>0</td>\n",
       "      <td>24:57.0</td>\n",
       "      <td>15.3</td>\n",
       "      <td>2011-05-28 14:24:57 UTC</td>\n",
       "      <td>-74.003957</td>\n",
       "      <td>40.707345</td>\n",
       "      <td>-73.987255</td>\n",
       "      <td>40.756599</td>\n",
       "      <td>1</td>\n",
       "    </tr>\n",
       "    <tr>\n",
       "      <td>1</td>\n",
       "      <td>04:00.0</td>\n",
       "      <td>10.5</td>\n",
       "      <td>2010-06-13 00:04:00 UTC</td>\n",
       "      <td>-73.985308</td>\n",
       "      <td>40.727445</td>\n",
       "      <td>-73.983152</td>\n",
       "      <td>40.756828</td>\n",
       "      <td>1</td>\n",
       "    </tr>\n",
       "    <tr>\n",
       "      <td>2</td>\n",
       "      <td>40:23.0</td>\n",
       "      <td>15.7</td>\n",
       "      <td>2012-06-01 21:40:23 UTC</td>\n",
       "      <td>-73.991942</td>\n",
       "      <td>40.763950</td>\n",
       "      <td>-73.994583</td>\n",
       "      <td>40.718426</td>\n",
       "      <td>1</td>\n",
       "    </tr>\n",
       "    <tr>\n",
       "      <td>3</td>\n",
       "      <td>56:00.0</td>\n",
       "      <td>5.0</td>\n",
       "      <td>2014-03-03 21:56:00 UTC</td>\n",
       "      <td>-73.982507</td>\n",
       "      <td>40.692082</td>\n",
       "      <td>-73.968980</td>\n",
       "      <td>40.694112</td>\n",
       "      <td>2</td>\n",
       "    </tr>\n",
       "    <tr>\n",
       "      <td>4</td>\n",
       "      <td>21:10.0</td>\n",
       "      <td>6.9</td>\n",
       "      <td>2009-05-07 07:21:10 UTC</td>\n",
       "      <td>-73.997176</td>\n",
       "      <td>40.749256</td>\n",
       "      <td>-73.982095</td>\n",
       "      <td>40.736297</td>\n",
       "      <td>4</td>\n",
       "    </tr>\n",
       "  </tbody>\n",
       "</table>\n",
       "</div>"
      ],
      "text/plain": [
       "       key  fare_amount          pickup_datetime  pickup_longitude  \\\n",
       "0  24:57.0         15.3  2011-05-28 14:24:57 UTC        -74.003957   \n",
       "1  04:00.0         10.5  2010-06-13 00:04:00 UTC        -73.985308   \n",
       "2  40:23.0         15.7  2012-06-01 21:40:23 UTC        -73.991942   \n",
       "3  56:00.0          5.0  2014-03-03 21:56:00 UTC        -73.982507   \n",
       "4  21:10.0          6.9  2009-05-07 07:21:10 UTC        -73.997176   \n",
       "\n",
       "   pickup_latitude  dropoff_longitude  dropoff_latitude  passenger_count  \n",
       "0        40.707345         -73.987255         40.756599                1  \n",
       "1        40.727445         -73.983152         40.756828                1  \n",
       "2        40.763950         -73.994583         40.718426                1  \n",
       "3        40.692082         -73.968980         40.694112                2  \n",
       "4        40.749256         -73.982095         40.736297                4  "
      ]
     },
     "execution_count": 24,
     "metadata": {},
     "output_type": "execute_result"
    }
   ],
   "source": [
    "nyc_taxi_fare.head()"
   ]
  },
  {
   "cell_type": "code",
   "execution_count": 33,
   "metadata": {},
   "outputs": [
    {
     "name": "stdout",
     "output_type": "stream",
     "text": [
      "CPU times: user 40.2 ms, sys: 5.62 ms, total: 45.8 ms\n",
      "Wall time: 42 ms\n"
     ]
    },
    {
     "data": {
      "text/plain": [
       "passenger_count\n",
       "0     8.191667\n",
       "1    11.405134\n",
       "2    12.241952\n",
       "3    11.260214\n",
       "4    10.229519\n",
       "5    11.670223\n",
       "6    10.476476\n",
       "Name: fare_amount, dtype: float64"
      ]
     },
     "execution_count": 33,
     "metadata": {},
     "output_type": "execute_result"
    }
   ],
   "source": [
    "%%time\n",
    "nyc_taxi_fare.groupby(['passenger_count'])['fare_amount'].mean()"
   ]
  },
  {
   "cell_type": "code",
   "execution_count": 89,
   "metadata": {},
   "outputs": [
    {
     "name": "stdout",
     "output_type": "stream",
     "text": [
      "CPU times: user 44.9 ms, sys: 4.94 ms, total: 49.9 ms\n",
      "Wall time: 46.5 ms\n"
     ]
    },
    {
     "data": {
      "text/html": [
       "<div>\n",
       "<style scoped>\n",
       "    .dataframe tbody tr th:only-of-type {\n",
       "        vertical-align: middle;\n",
       "    }\n",
       "\n",
       "    .dataframe tbody tr th {\n",
       "        vertical-align: top;\n",
       "    }\n",
       "\n",
       "    .dataframe thead th {\n",
       "        text-align: right;\n",
       "    }\n",
       "</style>\n",
       "<table border=\"1\" class=\"dataframe\">\n",
       "  <thead>\n",
       "    <tr style=\"text-align: right;\">\n",
       "      <th></th>\n",
       "      <th>count</th>\n",
       "      <th>mean</th>\n",
       "      <th>std</th>\n",
       "      <th>min</th>\n",
       "      <th>median</th>\n",
       "    </tr>\n",
       "    <tr>\n",
       "      <th>passenger_count</th>\n",
       "      <th></th>\n",
       "      <th></th>\n",
       "      <th></th>\n",
       "      <th></th>\n",
       "      <th></th>\n",
       "    </tr>\n",
       "  </thead>\n",
       "  <tbody>\n",
       "    <tr>\n",
       "      <td>0</td>\n",
       "      <td>24.0</td>\n",
       "      <td>8.191667</td>\n",
       "      <td>4.095376</td>\n",
       "      <td>2.5</td>\n",
       "      <td>7.3</td>\n",
       "    </tr>\n",
       "    <tr>\n",
       "      <td>1</td>\n",
       "      <td>6973.0</td>\n",
       "      <td>11.405134</td>\n",
       "      <td>9.739049</td>\n",
       "      <td>2.5</td>\n",
       "      <td>8.5</td>\n",
       "    </tr>\n",
       "    <tr>\n",
       "      <td>2</td>\n",
       "      <td>1445.0</td>\n",
       "      <td>12.241952</td>\n",
       "      <td>13.548538</td>\n",
       "      <td>2.5</td>\n",
       "      <td>8.5</td>\n",
       "    </tr>\n",
       "    <tr>\n",
       "      <td>3</td>\n",
       "      <td>467.0</td>\n",
       "      <td>11.260214</td>\n",
       "      <td>10.085676</td>\n",
       "      <td>2.5</td>\n",
       "      <td>8.5</td>\n",
       "    </tr>\n",
       "    <tr>\n",
       "      <td>4</td>\n",
       "      <td>208.0</td>\n",
       "      <td>10.229519</td>\n",
       "      <td>8.600770</td>\n",
       "      <td>3.3</td>\n",
       "      <td>7.7</td>\n",
       "    </tr>\n",
       "    <tr>\n",
       "      <td>5</td>\n",
       "      <td>673.0</td>\n",
       "      <td>11.670223</td>\n",
       "      <td>9.499315</td>\n",
       "      <td>2.5</td>\n",
       "      <td>8.5</td>\n",
       "    </tr>\n",
       "    <tr>\n",
       "      <td>6</td>\n",
       "      <td>210.0</td>\n",
       "      <td>10.476476</td>\n",
       "      <td>7.071556</td>\n",
       "      <td>2.5</td>\n",
       "      <td>8.5</td>\n",
       "    </tr>\n",
       "  </tbody>\n",
       "</table>\n",
       "</div>"
      ],
      "text/plain": [
       "                  count       mean        std  min  median\n",
       "passenger_count                                           \n",
       "0                  24.0   8.191667   4.095376  2.5     7.3\n",
       "1                6973.0  11.405134   9.739049  2.5     8.5\n",
       "2                1445.0  12.241952  13.548538  2.5     8.5\n",
       "3                 467.0  11.260214  10.085676  2.5     8.5\n",
       "4                 208.0  10.229519   8.600770  3.3     7.7\n",
       "5                 673.0  11.670223   9.499315  2.5     8.5\n",
       "6                 210.0  10.476476   7.071556  2.5     8.5"
      ]
     },
     "execution_count": 89,
     "metadata": {},
     "output_type": "execute_result"
    }
   ],
   "source": [
    "%%time\n",
    "nyc_taxi_fare.groupby(['passenger_count'])['fare_amount'].agg(count = len, \n",
    "                                                              mean = np.mean,\n",
    "                                                              std = np.std,\n",
    "                                                              min = np.min,\n",
    "                                                              median = np.median)"
   ]
  },
  {
   "cell_type": "code",
   "execution_count": 91,
   "metadata": {},
   "outputs": [
    {
     "ename": "NameError",
     "evalue": "name 'nyc_taxi_fare' is not defined",
     "output_type": "error",
     "traceback": [
      "\u001b[0;31m---------------------------------------------------------------------------\u001b[0m",
      "\u001b[0;31mNameError\u001b[0m                                 Traceback (most recent call last)",
      "\u001b[0;32m<timed eval>\u001b[0m in \u001b[0;36m<module>\u001b[0;34m\u001b[0m\n",
      "\u001b[0;31mNameError\u001b[0m: name 'nyc_taxi_fare' is not defined"
     ]
    }
   ],
   "source": [
    "%%time\n",
    "nyc_taxi_fare.groupby(['passenger_count'])['fare_amount'].describe()"
   ]
  },
  {
   "cell_type": "code",
   "execution_count": 90,
   "metadata": {},
   "outputs": [],
   "source": [
    "del(nyc_taxi_fare)\n",
    "ray.shutdown()"
   ]
  },
  {
   "cell_type": "markdown",
   "metadata": {},
   "source": [
    "## MODIN INTERESTING BITS ##"
   ]
  },
  {
   "cell_type": "code",
   "execution_count": null,
   "metadata": {},
   "outputs": [],
   "source": []
  }
 ],
 "metadata": {
  "kernelspec": {
   "display_name": "Python 3",
   "language": "python",
   "name": "python3"
  },
  "language_info": {
   "codemirror_mode": {
    "name": "ipython",
    "version": 3
   },
   "file_extension": ".py",
   "mimetype": "text/x-python",
   "name": "python",
   "nbconvert_exporter": "python",
   "pygments_lexer": "ipython3",
   "version": "3.7.4"
  }
 },
 "nbformat": 4,
 "nbformat_minor": 4
}
