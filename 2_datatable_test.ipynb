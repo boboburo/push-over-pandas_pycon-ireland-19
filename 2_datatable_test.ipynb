{
 "cells": [
  {
   "cell_type": "code",
   "execution_count": 1,
   "metadata": {
    "ExecuteTime": {
     "end_time": "2019-10-12T19:23:42.082727Z",
     "start_time": "2019-10-12T19:23:42.047093Z"
    }
   },
   "outputs": [],
   "source": [
    "import os\n",
    "import sys\n",
    "import yaml\n",
    "import json\n",
    "\n",
    "with open(\"config.yaml\", 'r') as yml_file:\n",
    "    cfg = yaml.safe_load(yml_file)\n",
    "    \n",
    "#Get data path from config \n",
    "data_path = cfg['brian_laptop']['data_path']\n",
    "mb_div = cfg['constant']['mb_div']\n",
    "\n",
    "#Get dyype for meta file \n",
    "meta_data_file = os.path.join(data_path, cfg['data']['metadata'])\n",
    "with open(meta_data_file) as f:\n",
    "    meta_data = json.load(f)"
   ]
  },
  {
   "cell_type": "code",
   "execution_count": 2,
   "metadata": {
    "ExecuteTime": {
     "end_time": "2019-10-12T19:23:42.300806Z",
     "start_time": "2019-10-12T19:23:42.237860Z"
    }
   },
   "outputs": [
    {
     "name": "stdout",
     "output_type": "stream",
     "text": [
      "0.9.0\n"
     ]
    }
   ],
   "source": [
    "import datatable as dt\n",
    "print(dt.__version__)"
   ]
  },
  {
   "cell_type": "markdown",
   "metadata": {},
   "source": [
    "# Open Files\n",
    "- no support for hdf, parquet files yet "
   ]
  },
  {
   "cell_type": "code",
   "execution_count": 3,
   "metadata": {
    "ExecuteTime": {
     "end_time": "2019-10-12T19:23:46.859814Z",
     "start_time": "2019-10-12T19:23:43.302518Z"
    }
   },
   "outputs": [],
   "source": [
    "#CSV use fread command\n",
    "yellow_trip_file = os.path.join(data_path, cfg['data']['nyc_yellow_trip_csv'])\n",
    "yellow_taxi = dt.fread(yellow_trip_file, fill = True)"
   ]
  },
  {
   "cell_type": "code",
   "execution_count": 4,
   "metadata": {
    "ExecuteTime": {
     "end_time": "2019-10-12T19:23:49.422373Z",
     "start_time": "2019-10-12T19:23:49.411704Z"
    }
   },
   "outputs": [
    {
     "data": {
      "text/html": [
       "<style type='text/css'>\n",
       ".datatable table.frame { margin-bottom: 0; }\n",
       ".datatable table.frame thead { border-bottom: none; }\n",
       ".datatable table.frame tr.coltypes td {  color: #FFFFFF;  line-height: 6px;  padding: 0 0.5em;}\n",
       ".datatable .bool { background: #DDDD99; }\n",
       ".datatable .obj  { background: #565656; }\n",
       ".datatable .int  { background: #5D9E5D; }\n",
       ".datatable .real { background: #4040CC; }\n",
       ".datatable .str  { background: #CC4040; }\n",
       ".datatable .row_index {  background: var(--jp-border-color3);  border-right: 1px solid var(--jp-border-color0);  color: var(--jp-ui-font-color3);  font-size: 9px;}\n",
       ".datatable .frame tr.coltypes .row_index {  background: var(--jp-border-color0);}\n",
       ".datatable th:nth-child(2) { padding-left: 12px; }\n",
       ".datatable .hellipsis {  color: var(--jp-cell-editor-border-color);}\n",
       ".datatable .vellipsis {  background: var(--jp-layout-color0);  color: var(--jp-cell-editor-border-color);}\n",
       ".datatable .na {  color: var(--jp-cell-editor-border-color);  font-size: 80%;}\n",
       ".datatable .footer { font-size: 9px; }\n",
       ".datatable .frame_dimensions {  background: var(--jp-border-color3);  border-top: 1px solid var(--jp-border-color0);  color: var(--jp-ui-font-color3);  display: inline-block;  opacity: 0.6;  padding: 1px 10px 1px 5px;}\n",
       "</style>\n",
       "<div class='datatable'>\n",
       "  <table class='frame'>\n",
       "  <thead>\n",
       "    <tr class='colnames'><td class='row_index'></td><th>vendor_id</th><th>pickup_datetime</th><th>dropoff_datetime</th><th>passenger_count</th><th>trip_distance</th><th>pickup_longitude</th><th>pickup_latitude</th><th>rate_code</th><th>store_and_fwd_flag</th><th>dropoff_longitude</th><th class='vellipsis'>&hellip;</th><th>surcharge</th><th>mta_tax</th><th>tip_amount</th><th>tolls_amount</th><th>total_amount</th></tr>\n",
       "    <tr class='coltypes'><td class='row_index'></td><td class='str' title='str32'>&#x25AA;&#x25AA;&#x25AA;&#x25AA;</td><td class='str' title='str32'>&#x25AA;&#x25AA;&#x25AA;&#x25AA;</td><td class='str' title='str32'>&#x25AA;&#x25AA;&#x25AA;&#x25AA;</td><td class='int' title='int32'>&#x25AA;&#x25AA;&#x25AA;&#x25AA;</td><td class='real' title='float64'>&#x25AA;&#x25AA;&#x25AA;&#x25AA;&#x25AA;&#x25AA;&#x25AA;&#x25AA;</td><td class='real' title='float64'>&#x25AA;&#x25AA;&#x25AA;&#x25AA;&#x25AA;&#x25AA;&#x25AA;&#x25AA;</td><td class='real' title='float64'>&#x25AA;&#x25AA;&#x25AA;&#x25AA;&#x25AA;&#x25AA;&#x25AA;&#x25AA;</td><td class='int' title='int32'>&#x25AA;&#x25AA;&#x25AA;&#x25AA;</td><td class='bool' title='bool8'>&#x25AA;</td><td class='real' title='float64'>&#x25AA;&#x25AA;&#x25AA;&#x25AA;&#x25AA;&#x25AA;&#x25AA;&#x25AA;</td><td></td><td class='real' title='float64'>&#x25AA;&#x25AA;&#x25AA;&#x25AA;&#x25AA;&#x25AA;&#x25AA;&#x25AA;</td><td class='real' title='float64'>&#x25AA;&#x25AA;&#x25AA;&#x25AA;&#x25AA;&#x25AA;&#x25AA;&#x25AA;</td><td class='real' title='float64'>&#x25AA;&#x25AA;&#x25AA;&#x25AA;&#x25AA;&#x25AA;&#x25AA;&#x25AA;</td><td class='real' title='float64'>&#x25AA;&#x25AA;&#x25AA;&#x25AA;&#x25AA;&#x25AA;&#x25AA;&#x25AA;</td><td class='real' title='float64'>&#x25AA;&#x25AA;&#x25AA;&#x25AA;&#x25AA;&#x25AA;&#x25AA;&#x25AA;</td></tr>\n",
       "  </thead>\n",
       "  <tbody>\n",
       "    <tr><td class='row_index'>0</td><td><span class=na>NA</span></td><td><span class=na>NA</span></td><td><span class=na>NA</span></td><td><span class=na>NA</span></td><td><span class=na>NA</span></td><td><span class=na>NA</span></td><td><span class=na>NA</span></td><td><span class=na>NA</span></td><td><span class=na>NA</span></td><td><span class=na>NA</span></td><td class=vellipsis>&hellip;</td><td><span class=na>NA</span></td><td><span class=na>NA</span></td><td><span class=na>NA</span></td><td><span class=na>NA</span></td><td><span class=na>NA</span></td></tr>\n",
       "    <tr><td class='row_index'>1</td><td>CMT</td><td>2010-06-18 10:43:46</td><td>2010-06-18 11:22:12</td><td>4</td><td>20</td><td>&minus;73.9729</td><td>40.7928</td><td>2</td><td>0</td><td>&minus;73.7763</td><td class=vellipsis>&hellip;</td><td>0</td><td>0.5</td><td>0</td><td>4.57</td><td>50.07</td></tr>\n",
       "  </tbody>\n",
       "  </table>\n",
       "  <div class='footer'>\n",
       "    <div class='frame_dimensions'>2 rows &times; 18 columns</div>\n",
       "  </div>\n",
       "</div>\n"
      ],
      "text/plain": []
     },
     "execution_count": 4,
     "metadata": {},
     "output_type": "execute_result"
    }
   ],
   "source": [
    "# Had introduced extra line on top row \n",
    "# Columns are colours by type \n",
    "yellow_taxi.head(2)"
   ]
  },
  {
   "cell_type": "code",
   "execution_count": 5,
   "metadata": {
    "ExecuteTime": {
     "end_time": "2019-10-12T19:23:52.179061Z",
     "start_time": "2019-10-12T19:23:52.171194Z"
    }
   },
   "outputs": [
    {
     "name": "stdout",
     "output_type": "stream",
     "text": [
      "14825129\n",
      "14825128\n"
     ]
    },
    {
     "data": {
      "text/html": [
       "<div class='datatable'>\n",
       "  <table class='frame'>\n",
       "  <thead>\n",
       "    <tr class='colnames'><td class='row_index'></td><th>vendor_id</th><th>pickup_datetime</th><th>dropoff_datetime</th><th>passenger_count</th><th>trip_distance</th><th>pickup_longitude</th><th>pickup_latitude</th><th>rate_code</th><th>store_and_fwd_flag</th><th>dropoff_longitude</th><th class='vellipsis'>&hellip;</th><th>surcharge</th><th>mta_tax</th><th>tip_amount</th><th>tolls_amount</th><th>total_amount</th></tr>\n",
       "    <tr class='coltypes'><td class='row_index'></td><td class='str' title='str32'>&#x25AA;&#x25AA;&#x25AA;&#x25AA;</td><td class='str' title='str32'>&#x25AA;&#x25AA;&#x25AA;&#x25AA;</td><td class='str' title='str32'>&#x25AA;&#x25AA;&#x25AA;&#x25AA;</td><td class='int' title='int32'>&#x25AA;&#x25AA;&#x25AA;&#x25AA;</td><td class='real' title='float64'>&#x25AA;&#x25AA;&#x25AA;&#x25AA;&#x25AA;&#x25AA;&#x25AA;&#x25AA;</td><td class='real' title='float64'>&#x25AA;&#x25AA;&#x25AA;&#x25AA;&#x25AA;&#x25AA;&#x25AA;&#x25AA;</td><td class='real' title='float64'>&#x25AA;&#x25AA;&#x25AA;&#x25AA;&#x25AA;&#x25AA;&#x25AA;&#x25AA;</td><td class='int' title='int32'>&#x25AA;&#x25AA;&#x25AA;&#x25AA;</td><td class='bool' title='bool8'>&#x25AA;</td><td class='real' title='float64'>&#x25AA;&#x25AA;&#x25AA;&#x25AA;&#x25AA;&#x25AA;&#x25AA;&#x25AA;</td><td></td><td class='real' title='float64'>&#x25AA;&#x25AA;&#x25AA;&#x25AA;&#x25AA;&#x25AA;&#x25AA;&#x25AA;</td><td class='real' title='float64'>&#x25AA;&#x25AA;&#x25AA;&#x25AA;&#x25AA;&#x25AA;&#x25AA;&#x25AA;</td><td class='real' title='float64'>&#x25AA;&#x25AA;&#x25AA;&#x25AA;&#x25AA;&#x25AA;&#x25AA;&#x25AA;</td><td class='real' title='float64'>&#x25AA;&#x25AA;&#x25AA;&#x25AA;&#x25AA;&#x25AA;&#x25AA;&#x25AA;</td><td class='real' title='float64'>&#x25AA;&#x25AA;&#x25AA;&#x25AA;&#x25AA;&#x25AA;&#x25AA;&#x25AA;</td></tr>\n",
       "  </thead>\n",
       "  <tbody>\n",
       "    <tr><td class='row_index'>0</td><td>CMT</td><td>2010-06-18 10:43:46</td><td>2010-06-18 11:22:12</td><td>4</td><td>20</td><td>&minus;73.9729</td><td>40.7928</td><td>2</td><td>0</td><td>&minus;73.7763</td><td class=vellipsis>&hellip;</td><td>0</td><td>0.5</td><td>0</td><td>4.57</td><td>50.07</td></tr>\n",
       "    <tr><td class='row_index'>1</td><td>CMT</td><td>2010-06-26 15:02:57</td><td>2010-06-26 15:07:15</td><td>1</td><td>0.7</td><td>&minus;73.9878</td><td>40.7485</td><td>1</td><td>0</td><td>&minus;73.9775</td><td class=vellipsis>&hellip;</td><td>0</td><td>0.5</td><td>0</td><td>0</td><td>5</td></tr>\n",
       "  </tbody>\n",
       "  </table>\n",
       "  <div class='footer'>\n",
       "    <div class='frame_dimensions'>2 rows &times; 18 columns</div>\n",
       "  </div>\n",
       "</div>\n"
      ],
      "text/plain": []
     },
     "execution_count": 5,
     "metadata": {},
     "output_type": "execute_result"
    }
   ],
   "source": [
    "#Fread has introduced extra row\n",
    "print(yellow_taxi.nrows)\n",
    "x = yellow_taxi.nrows\n",
    "yellow_taxi = yellow_taxi[1:x,:]\n",
    "print(yellow_taxi.nrows)\n",
    "yellow_taxi.head(2)"
   ]
  },
  {
   "cell_type": "code",
   "execution_count": 6,
   "metadata": {
    "ExecuteTime": {
     "end_time": "2019-10-12T19:23:57.222970Z",
     "start_time": "2019-10-12T19:23:57.210686Z"
    }
   },
   "outputs": [
    {
     "name": "stdout",
     "output_type": "stream",
     "text": [
      "vendor_id : stype.str32\n",
      "pickup_datetime : stype.str32\n",
      "dropoff_datetime : stype.str32\n",
      "passenger_count : stype.int32\n",
      "trip_distance : stype.float64\n",
      "pickup_longitude : stype.float64\n",
      "pickup_latitude : stype.float64\n",
      "rate_code : stype.int32\n",
      "store_and_fwd_flag : stype.bool8\n",
      "dropoff_longitude : stype.float64\n",
      "dropoff_latitude : stype.float64\n",
      "payment_type : stype.str32\n",
      "fare_amount : stype.float64\n",
      "surcharge : stype.float64\n",
      "mta_tax : stype.float64\n",
      "tip_amount : stype.float64\n",
      "tolls_amount : stype.float64\n",
      "total_amount : stype.float64\n"
     ]
    }
   ],
   "source": [
    "for i in range(len(yellow_taxi.names)):\n",
    "    print(yellow_taxi.names[i], \":\", yellow_taxi.stypes[i])"
   ]
  },
  {
   "cell_type": "markdown",
   "metadata": {},
   "source": [
    "## Summary\n",
    "- nice guide here https://www.machinelearningplus.com/data-manipulation/101-python-datatable-exercises-pydatatable/\n",
    "- no describe method, but could be written. \n",
    "- does nice caching"
   ]
  },
  {
   "cell_type": "code",
   "execution_count": 7,
   "metadata": {
    "ExecuteTime": {
     "end_time": "2019-10-12T19:23:59.797673Z",
     "start_time": "2019-10-12T19:23:59.794225Z"
    }
   },
   "outputs": [],
   "source": [
    "stat_dt = dt.Frame(stat=[\"sum\",\"max\",\"min\",\"mean\",\"sd\",\"mode\",\"nmodal\",\"nuniqe\"])"
   ]
  },
  {
   "cell_type": "code",
   "execution_count": 8,
   "metadata": {
    "ExecuteTime": {
     "end_time": "2019-10-12T19:24:21.173135Z",
     "start_time": "2019-10-12T19:24:00.265168Z"
    }
   },
   "outputs": [
    {
     "data": {
      "text/html": [
       "<div class='datatable'>\n",
       "  <table class='frame'>\n",
       "  <thead>\n",
       "    <tr class='colnames'><td class='row_index'></td><th>stat</th><th>vendor_id</th><th>pickup_datetime</th><th>dropoff_datetime</th><th>passenger_count</th><th>trip_distance</th><th>pickup_longitude</th><th>pickup_latitude</th><th>rate_code</th><th>store_and_fwd_flag</th><th class='vellipsis'>&hellip;</th><th>surcharge</th><th>mta_tax</th><th>tip_amount</th><th>tolls_amount</th><th>total_amount</th></tr>\n",
       "    <tr class='coltypes'><td class='row_index'></td><td class='str' title='str32'>&#x25AA;&#x25AA;&#x25AA;&#x25AA;</td><td class='str' title='str32'>&#x25AA;&#x25AA;&#x25AA;&#x25AA;</td><td class='str' title='str32'>&#x25AA;&#x25AA;&#x25AA;&#x25AA;</td><td class='str' title='str32'>&#x25AA;&#x25AA;&#x25AA;&#x25AA;</td><td class='real' title='float64'>&#x25AA;&#x25AA;&#x25AA;&#x25AA;&#x25AA;&#x25AA;&#x25AA;&#x25AA;</td><td class='real' title='float64'>&#x25AA;&#x25AA;&#x25AA;&#x25AA;&#x25AA;&#x25AA;&#x25AA;&#x25AA;</td><td class='real' title='float64'>&#x25AA;&#x25AA;&#x25AA;&#x25AA;&#x25AA;&#x25AA;&#x25AA;&#x25AA;</td><td class='real' title='float64'>&#x25AA;&#x25AA;&#x25AA;&#x25AA;&#x25AA;&#x25AA;&#x25AA;&#x25AA;</td><td class='real' title='float64'>&#x25AA;&#x25AA;&#x25AA;&#x25AA;&#x25AA;&#x25AA;&#x25AA;&#x25AA;</td><td class='real' title='float64'>&#x25AA;&#x25AA;&#x25AA;&#x25AA;&#x25AA;&#x25AA;&#x25AA;&#x25AA;</td><td></td><td class='real' title='float64'>&#x25AA;&#x25AA;&#x25AA;&#x25AA;&#x25AA;&#x25AA;&#x25AA;&#x25AA;</td><td class='real' title='float64'>&#x25AA;&#x25AA;&#x25AA;&#x25AA;&#x25AA;&#x25AA;&#x25AA;&#x25AA;</td><td class='real' title='float64'>&#x25AA;&#x25AA;&#x25AA;&#x25AA;&#x25AA;&#x25AA;&#x25AA;&#x25AA;</td><td class='real' title='float64'>&#x25AA;&#x25AA;&#x25AA;&#x25AA;&#x25AA;&#x25AA;&#x25AA;&#x25AA;</td><td class='real' title='float64'>&#x25AA;&#x25AA;&#x25AA;&#x25AA;&#x25AA;&#x25AA;&#x25AA;&#x25AA;</td></tr>\n",
       "  </thead>\n",
       "  <tbody>\n",
       "    <tr><td class='row_index'>0</td><td>sum</td><td><span class=na>NA</span></td><td><span class=na>NA</span></td><td><span class=na>NA</span></td><td>2.47952e+07</td><td>4.15814e+07</td><td>&minus;1.07333e+09</td><td>5.91892e+08</td><td>1.5342e+07</td><td>84544</td><td class=vellipsis>&hellip;</td><td>4.87368e+06</td><td>7.38679e+06</td><td>1.17109e+07</td><td>2.80826e+06</td><td>1.76881e+08</td></tr>\n",
       "    <tr><td class='row_index'>1</td><td>max</td><td><span class=na>NA</span></td><td><span class=na>NA</span></td><td><span class=na>NA</span></td><td>208</td><td>50</td><td>3569.93</td><td>1963.52</td><td>210</td><td>1</td><td class=vellipsis>&hellip;</td><td>8.05</td><td>0.5</td><td>100</td><td>20</td><td>235.9</td></tr>\n",
       "    <tr><td class='row_index'>2</td><td>min</td><td><span class=na>NA</span></td><td><span class=na>NA</span></td><td><span class=na>NA</span></td><td>0</td><td>0</td><td>&minus;884.851</td><td>&minus;3579.14</td><td>0</td><td>0</td><td class=vellipsis>&hellip;</td><td>0</td><td>0</td><td>0</td><td>0</td><td>2.5</td></tr>\n",
       "    <tr><td class='row_index'>3</td><td>mean</td><td><span class=na>NA</span></td><td><span class=na>NA</span></td><td><span class=na>NA</span></td><td>1.67251</td><td>2.80479</td><td>&minus;72.399</td><td>39.9249</td><td>1.03486</td><td>0.0126752</td><td class=vellipsis>&hellip;</td><td>0.328744</td><td>0.498261</td><td>0.789939</td><td>0.189425</td><td>11.9311</td></tr>\n",
       "    <tr><td class='row_index'>4</td><td>sd</td><td><span class=na>NA</span></td><td><span class=na>NA</span></td><td><span class=na>NA</span></td><td>1.28233</td><td>3.23032</td><td>10.7638</td><td>10.6181</td><td>0.350489</td><td>0.111868</td><td class=vellipsis>&hellip;</td><td>0.369467</td><td>0.0294337</td><td>1.5956</td><td>0.963193</td><td>9.38099</td></tr>\n",
       "    <tr><td class='row_index'>5</td><td>mode</td><td>VTS</td><td>2010-06-18 00:00:00</td><td>2010-06-22 19:44:00</td><td>1</td><td>1</td><td>0</td><td>0</td><td>1</td><td>0</td><td class=vellipsis>&hellip;</td><td>0</td><td>0.5</td><td>0</td><td>0</td><td>7</td></tr>\n",
       "    <tr><td class='row_index'>6</td><td>nmodal</td><td>7471719</td><td>380</td><td>363</td><td>1.02076e+07</td><td>336853</td><td>312492</td><td>312449</td><td>1.44822e+07</td><td>6.58548e+06</td><td class=vellipsis>&hellip;</td><td>7.45368e+06</td><td>1.47736e+07</td><td>9.57667e+06</td><td>1.42418e+07</td><td>304454</td></tr>\n",
       "    <tr><td class='row_index'>7</td><td>nuniqe</td><td>3</td><td>2260407</td><td>2262482</td><td>10</td><td>3921</td><td>216639</td><td>215251</td><td>12</td><td>2</td><td class=vellipsis>&hellip;</td><td>26</td><td>2</td><td>2615</td><td>528</td><td>10132</td></tr>\n",
       "  </tbody>\n",
       "  </table>\n",
       "  <div class='footer'>\n",
       "    <div class='frame_dimensions'>8 rows &times; 19 columns</div>\n",
       "  </div>\n",
       "</div>\n"
      ],
      "text/plain": []
     },
     "execution_count": 8,
     "metadata": {},
     "output_type": "execute_result"
    }
   ],
   "source": [
    "result = dt.rbind(yellow_taxi.sum(),\n",
    "yellow_taxi.max(),\n",
    "yellow_taxi.min(),\n",
    "yellow_taxi.mean(),\n",
    "yellow_taxi.sd(),\n",
    "yellow_taxi.mode(),\n",
    "yellow_taxi.nmodal(),\n",
    "yellow_taxi.nunique())\n",
    "\n",
    "result = dt.cbind(stat_dt, result)\n",
    "result"
   ]
  },
  {
   "cell_type": "markdown",
   "metadata": {},
   "source": [
    "## Value Count"
   ]
  },
  {
   "cell_type": "markdown",
   "metadata": {},
   "source": [
    "### f-expressions"
   ]
  },
  {
   "cell_type": "markdown",
   "metadata": {},
   "source": [
    "The datatable module exports a special symbol f, which can be used to refer to the columns of a frame currently being operated on. If this sounds cryptic, consider that the most common way to operate on a frame is via the square-bracket call DT[i, j, by, ...]. And it is often the case that within this expression you would want to refer to individual columns of the frame: either to create a filter, or a transform, or specify a grouping variable, etc. In all such cases the f symbol is used, and it is considered to be evaluated within the context of the frame DT."
   ]
  },
  {
   "cell_type": "code",
   "execution_count": 9,
   "metadata": {
    "ExecuteTime": {
     "end_time": "2019-10-12T19:24:36.224655Z",
     "start_time": "2019-10-12T19:24:36.113922Z"
    }
   },
   "outputs": [
    {
     "data": {
      "text/html": [
       "<div class='datatable'>\n",
       "  <table class='frame'>\n",
       "  <thead>\n",
       "    <tr class='colnames'><td class='row_index'></td><th>passenger_count</th><th>C0</th></tr>\n",
       "    <tr class='coltypes'><td class='row_index'></td><td class='int' title='int32'>&#x25AA;&#x25AA;&#x25AA;&#x25AA;</td><td class='int' title='int32'>&#x25AA;&#x25AA;&#x25AA;&#x25AA;</td></tr>\n",
       "  </thead>\n",
       "  <tbody>\n",
       "    <tr><td class='row_index'>0</td><td>0</td><td>39</td></tr>\n",
       "    <tr><td class='row_index'>1</td><td>1</td><td>10207628</td></tr>\n",
       "    <tr><td class='row_index'>2</td><td>2</td><td>2293152</td></tr>\n",
       "    <tr><td class='row_index'>3</td><td>3</td><td>680684</td></tr>\n",
       "    <tr><td class='row_index'>4</td><td>4</td><td>323814</td></tr>\n",
       "    <tr><td class='row_index'>5</td><td>5</td><td>1262078</td></tr>\n",
       "    <tr><td class='row_index'>6</td><td>6</td><td>57696</td></tr>\n",
       "    <tr><td class='row_index'>7</td><td>9</td><td>1</td></tr>\n",
       "    <tr><td class='row_index'>8</td><td>133</td><td>1</td></tr>\n",
       "    <tr><td class='row_index'>9</td><td>208</td><td>35</td></tr>\n",
       "  </tbody>\n",
       "  </table>\n",
       "  <div class='footer'>\n",
       "    <div class='frame_dimensions'>10 rows &times; 2 columns</div>\n",
       "  </div>\n",
       "</div>\n"
      ],
      "text/plain": []
     },
     "execution_count": 9,
     "metadata": {},
     "output_type": "execute_result"
    }
   ],
   "source": [
    "yellow_taxi[:, dt.count(), dt.by(\"passenger_count\")]"
   ]
  },
  {
   "cell_type": "code",
   "execution_count": 10,
   "metadata": {
    "ExecuteTime": {
     "end_time": "2019-10-12T19:24:40.345459Z",
     "start_time": "2019-10-12T19:24:40.192455Z"
    }
   },
   "outputs": [
    {
     "data": {
      "text/html": [
       "<div class='datatable'>\n",
       "  <table class='frame'>\n",
       "  <thead>\n",
       "    <tr class='colnames'><td class='row_index'></td><th>passenger_count</th><th>mean_tot_amount</th></tr>\n",
       "    <tr class='coltypes'><td class='row_index'></td><td class='int' title='int32'>&#x25AA;&#x25AA;&#x25AA;&#x25AA;</td><td class='real' title='float64'>&#x25AA;&#x25AA;&#x25AA;&#x25AA;&#x25AA;&#x25AA;&#x25AA;&#x25AA;</td></tr>\n",
       "  </thead>\n",
       "  <tbody>\n",
       "    <tr><td class='row_index'>0</td><td>0</td><td>17.4133</td></tr>\n",
       "    <tr><td class='row_index'>1</td><td>1</td><td>11.8145</td></tr>\n",
       "    <tr><td class='row_index'>2</td><td>2</td><td>12.3407</td></tr>\n",
       "    <tr><td class='row_index'>3</td><td>3</td><td>12.0267</td></tr>\n",
       "    <tr><td class='row_index'>4</td><td>4</td><td>12.1366</td></tr>\n",
       "    <tr><td class='row_index'>5</td><td>5</td><td>12.0404</td></tr>\n",
       "    <tr><td class='row_index'>6</td><td>6</td><td>11.6195</td></tr>\n",
       "    <tr><td class='row_index'>7</td><td>9</td><td>14.7</td></tr>\n",
       "    <tr><td class='row_index'>8</td><td>133</td><td>10.3</td></tr>\n",
       "    <tr><td class='row_index'>9</td><td>208</td><td>11.5429</td></tr>\n",
       "  </tbody>\n",
       "  </table>\n",
       "  <div class='footer'>\n",
       "    <div class='frame_dimensions'>10 rows &times; 2 columns</div>\n",
       "  </div>\n",
       "</div>\n"
      ],
      "text/plain": []
     },
     "execution_count": 10,
     "metadata": {},
     "output_type": "execute_result"
    }
   ],
   "source": [
    "#yellow_taxi is the frame, dt is the library, dt.f is the special symbol\n",
    "yellow_taxi[:, {\"mean_tot_amount\" :dt.mean(dt.f.total_amount)}, dt.by(\"passenger_count\")]"
   ]
  },
  {
   "cell_type": "markdown",
   "metadata": {},
   "source": [
    "## Dates"
   ]
  },
  {
   "cell_type": "code",
   "execution_count": 11,
   "metadata": {
    "ExecuteTime": {
     "end_time": "2019-10-12T19:24:53.087191Z",
     "start_time": "2019-10-12T19:24:53.084686Z"
    }
   },
   "outputs": [],
   "source": [
    "#TODO \n",
    "#Can't work out how to do this with datetime. "
   ]
  },
  {
   "cell_type": "markdown",
   "metadata": {},
   "source": [
    "## Groupby "
   ]
  },
  {
   "cell_type": "code",
   "execution_count": 12,
   "metadata": {
    "ExecuteTime": {
     "end_time": "2019-10-12T19:24:55.310670Z",
     "start_time": "2019-10-12T19:24:55.044500Z"
    },
    "code_folding": []
   },
   "outputs": [
    {
     "data": {
      "text/html": [
       "<div class='datatable'>\n",
       "  <table class='frame'>\n",
       "  <thead>\n",
       "    <tr class='colnames'><td class='row_index'></td><th>vendor_id</th><th>fare_amount</th><th>tip_amount</th></tr>\n",
       "    <tr class='coltypes'><td class='row_index'></td><td class='str' title='str32'>&#x25AA;&#x25AA;&#x25AA;&#x25AA;</td><td class='real' title='float64'>&#x25AA;&#x25AA;&#x25AA;&#x25AA;&#x25AA;&#x25AA;&#x25AA;&#x25AA;</td><td class='real' title='float64'>&#x25AA;&#x25AA;&#x25AA;&#x25AA;&#x25AA;&#x25AA;&#x25AA;&#x25AA;</td></tr>\n",
       "  </thead>\n",
       "  <tbody>\n",
       "    <tr><td class='row_index'>0</td><td>CMT</td><td>9.93636</td><td>0.74083</td></tr>\n",
       "    <tr><td class='row_index'>1</td><td>DDS</td><td>10.8225</td><td>0.771464</td></tr>\n",
       "    <tr><td class='row_index'>2</td><td>VTS</td><td>10.2244</td><td>0.835468</td></tr>\n",
       "  </tbody>\n",
       "  </table>\n",
       "  <div class='footer'>\n",
       "    <div class='frame_dimensions'>3 rows &times; 3 columns</div>\n",
       "  </div>\n",
       "</div>\n"
      ],
      "text/plain": []
     },
     "execution_count": 12,
     "metadata": {},
     "output_type": "execute_result"
    }
   ],
   "source": [
    "result = yellow_taxi[:, {\"fare_amount\" : dt.mean(dt.f.fare_amount),\n",
    "                        \"tip_amount\" : dt.mean(dt.f.tip_amount)},\n",
    "                     dt.by(\"vendor_id\")]\n",
    "\n",
    "result"
   ]
  },
  {
   "cell_type": "markdown",
   "metadata": {},
   "source": [
    "## PyDataTable Interesting Bits"
   ]
  },
  {
   "cell_type": "markdown",
   "metadata": {},
   "source": [
    "### Machine Learning \n",
    "\n",
    "- TODO: FTRL is implemented in pydatatable"
   ]
  },
  {
   "cell_type": "markdown",
   "metadata": {},
   "source": [
    "## Observations\n",
    "\n",
    "- pydatatable is trying to mimick that data.table in R. This is confusing \n",
    "- documentation is poor "
   ]
  },
  {
   "cell_type": "code",
   "execution_count": null,
   "metadata": {},
   "outputs": [],
   "source": []
  }
 ],
 "metadata": {
  "kernelspec": {
   "display_name": "Python 3",
   "language": "python",
   "name": "python3"
  },
  "language_info": {
   "codemirror_mode": {
    "name": "ipython",
    "version": 3
   },
   "file_extension": ".py",
   "mimetype": "text/x-python",
   "name": "python",
   "nbconvert_exporter": "python",
   "pygments_lexer": "ipython3",
   "version": "3.7.4"
  },
  "toc": {
   "nav_menu": {},
   "number_sections": true,
   "sideBar": true,
   "skip_h1_title": false,
   "toc_cell": false,
   "toc_position": {},
   "toc_section_display": "block",
   "toc_window_display": false
  }
 },
 "nbformat": 4,
 "nbformat_minor": 4
}
