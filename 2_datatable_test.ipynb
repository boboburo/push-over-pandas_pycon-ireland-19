{
 "cells": [
  {
   "cell_type": "code",
   "execution_count": 1,
   "metadata": {},
   "outputs": [],
   "source": [
    "import os\n",
    "import sys\n",
    "import yaml\n",
    "import json\n",
    "\n",
    "with open(\"config.yaml\", 'r') as yml_file:\n",
    "    cfg = yaml.safe_load(yml_file)\n",
    "    \n",
    "#Get data path from config \n",
    "data_path = cfg['brian_laptop']['data_path']\n",
    "mb_div = cfg['contants']['mb_div']\n",
    "\n",
    "#Get dyype for meta file \n",
    "meta_data_file = os.path.join(data_path, cfg['data']['metadata'])\n",
    "with open(meta_data_file) as f:\n",
    "    meta_data = json.load(f)"
   ]
  },
  {
   "cell_type": "code",
   "execution_count": 2,
   "metadata": {},
   "outputs": [
    {
     "name": "stdout",
     "output_type": "stream",
     "text": [
      "0.9.0\n"
     ]
    }
   ],
   "source": [
    "import datatable as dt\n",
    "print(dt.__version__)"
   ]
  },
  {
   "cell_type": "markdown",
   "metadata": {},
   "source": [
    "## Bigger Data\n",
    "\n",
    "55 million rows, 8 columns"
   ]
  },
  {
   "cell_type": "code",
   "execution_count": 3,
   "metadata": {},
   "outputs": [
    {
     "name": "stdout",
     "output_type": "stream",
     "text": [
      "CPU times: user 26.8 s, sys: 27.2 s, total: 54 s\n",
      "Wall time: 20.8 s\n"
     ]
    }
   ],
   "source": [
    "%%time\n",
    "\n",
    "nyc_taxi_fare_file = os.path.join(data_path, cfg['data']['kaggle_nyc'])\n",
    "nyc_taxi_fare = dt.fread(nyc_taxi_fare_file)"
   ]
  },
  {
   "cell_type": "code",
   "execution_count": 5,
   "metadata": {},
   "outputs": [
    {
     "name": "stdout",
     "output_type": "stream",
     "text": [
      "data table memory(MB) 5690.856\n",
      "(55423856, 8)\n",
      "CPU times: user 398 µs, sys: 416 µs, total: 814 µs\n",
      "Wall time: 1.59 ms\n"
     ]
    },
    {
     "data": {
      "text/html": [
       "<style type='text/css'>\n",
       ".datatable table.frame { margin-bottom: 0; }\n",
       ".datatable table.frame thead { border-bottom: none; }\n",
       ".datatable table.frame tr.coltypes td {  color: #FFFFFF;  line-height: 6px;  padding: 0 0.5em;}\n",
       ".datatable .bool { background: #DDDD99; }\n",
       ".datatable .obj  { background: #565656; }\n",
       ".datatable .int  { background: #5D9E5D; }\n",
       ".datatable .real { background: #4040CC; }\n",
       ".datatable .str  { background: #CC4040; }\n",
       ".datatable .row_index {  background: var(--jp-border-color3);  border-right: 1px solid var(--jp-border-color0);  color: var(--jp-ui-font-color3);  font-size: 9px;}\n",
       ".datatable .frame tr.coltypes .row_index {  background: var(--jp-border-color0);}\n",
       ".datatable th:nth-child(2) { padding-left: 12px; }\n",
       ".datatable .hellipsis {  color: var(--jp-cell-editor-border-color);}\n",
       ".datatable .vellipsis {  background: var(--jp-layout-color0);  color: var(--jp-cell-editor-border-color);}\n",
       ".datatable .na {  color: var(--jp-cell-editor-border-color);  font-size: 80%;}\n",
       ".datatable .footer { font-size: 9px; }\n",
       ".datatable .frame_dimensions {  background: var(--jp-border-color3);  border-top: 1px solid var(--jp-border-color0);  color: var(--jp-ui-font-color3);  display: inline-block;  opacity: 0.6;  padding: 1px 10px 1px 5px;}\n",
       "</style>\n",
       "<div class='datatable'>\n",
       "  <table class='frame'>\n",
       "  <thead>\n",
       "    <tr class='colnames'><td class='row_index'></td><th>key</th><th>fare_amount</th><th>pickup_datetime</th><th>pickup_longitude</th><th>pickup_latitude</th><th>dropoff_longitude</th><th>dropoff_latitude</th><th>passenger_count</th></tr>\n",
       "    <tr class='coltypes'><td class='row_index'></td><td class='str' title='str32'>&#x25AA;&#x25AA;&#x25AA;&#x25AA;</td><td class='real' title='float64'>&#x25AA;&#x25AA;&#x25AA;&#x25AA;&#x25AA;&#x25AA;&#x25AA;&#x25AA;</td><td class='str' title='str32'>&#x25AA;&#x25AA;&#x25AA;&#x25AA;</td><td class='real' title='float64'>&#x25AA;&#x25AA;&#x25AA;&#x25AA;&#x25AA;&#x25AA;&#x25AA;&#x25AA;</td><td class='real' title='float64'>&#x25AA;&#x25AA;&#x25AA;&#x25AA;&#x25AA;&#x25AA;&#x25AA;&#x25AA;</td><td class='real' title='float64'>&#x25AA;&#x25AA;&#x25AA;&#x25AA;&#x25AA;&#x25AA;&#x25AA;&#x25AA;</td><td class='real' title='float64'>&#x25AA;&#x25AA;&#x25AA;&#x25AA;&#x25AA;&#x25AA;&#x25AA;&#x25AA;</td><td class='int' title='int32'>&#x25AA;&#x25AA;&#x25AA;&#x25AA;</td></tr>\n",
       "  </thead>\n",
       "  <tbody>\n",
       "    <tr><td class='row_index'>0</td><td>2009-06-15 17:26:21.0000001</td><td>4.5</td><td>2009-06-15 17:26:21 UTC</td><td>&minus;73.8443</td><td>40.7213</td><td>&minus;73.8416</td><td>40.7123</td><td>1</td></tr>\n",
       "    <tr><td class='row_index'>1</td><td>2010-01-05 16:52:16.0000002</td><td>16.9</td><td>2010-01-05 16:52:16 UTC</td><td>&minus;74.016</td><td>40.7113</td><td>&minus;73.9793</td><td>40.782</td><td>1</td></tr>\n",
       "    <tr><td class='row_index'>2</td><td>2011-08-18 00:35:00.00000049</td><td>5.7</td><td>2011-08-18 00:35:00 UTC</td><td>&minus;73.9827</td><td>40.7613</td><td>&minus;73.9912</td><td>40.7506</td><td>2</td></tr>\n",
       "    <tr><td class='row_index'>3</td><td>2012-04-21 04:30:42.0000001</td><td>7.7</td><td>2012-04-21 04:30:42 UTC</td><td>&minus;73.9871</td><td>40.7331</td><td>&minus;73.9916</td><td>40.7581</td><td>1</td></tr>\n",
       "    <tr><td class='row_index'>4</td><td>2010-03-09 07:51:00.000000135</td><td>5.3</td><td>2010-03-09 07:51:00 UTC</td><td>&minus;73.9681</td><td>40.768</td><td>&minus;73.9567</td><td>40.7838</td><td>1</td></tr>\n",
       "  </tbody>\n",
       "  </table>\n",
       "  <div class='footer'>\n",
       "    <div class='frame_dimensions'>5 rows &times; 8 columns</div>\n",
       "  </div>\n",
       "</div>\n"
      ],
      "text/plain": []
     },
     "execution_count": 5,
     "metadata": {},
     "output_type": "execute_result"
    }
   ],
   "source": [
    "%%time\n",
    "\n",
    "print(\"data table memory(MB)\", round(sys.getsizeof(nyc_taxi_fare)/mb_div,3))\n",
    "print(nyc_taxi_fare.shape)\n",
    "nyc_taxi_fare[:5,:]"
   ]
  },
  {
   "cell_type": "code",
   "execution_count": 6,
   "metadata": {},
   "outputs": [
    {
     "name": "stdout",
     "output_type": "stream",
     "text": [
      "CPU times: user 18.6 s, sys: 7.47 s, total: 26 s\n",
      "Wall time: 4.19 s\n"
     ]
    },
    {
     "data": {
      "text/html": [
       "<div class='datatable'>\n",
       "  <table class='frame'>\n",
       "  <thead>\n",
       "    <tr class='colnames'><td class='row_index'></td><th>passenger_count</th><th>C0</th><th>C1</th><th>C2</th><th>C3</th><th>C4</th><th>C5</th></tr>\n",
       "    <tr class='coltypes'><td class='row_index'></td><td class='int' title='int32'>&#x25AA;&#x25AA;&#x25AA;&#x25AA;</td><td class='int' title='int64'>&#x25AA;&#x25AA;&#x25AA;&#x25AA;&#x25AA;&#x25AA;&#x25AA;&#x25AA;</td><td class='real' title='float64'>&#x25AA;&#x25AA;&#x25AA;&#x25AA;&#x25AA;&#x25AA;&#x25AA;&#x25AA;</td><td class='real' title='float64'>&#x25AA;&#x25AA;&#x25AA;&#x25AA;&#x25AA;&#x25AA;&#x25AA;&#x25AA;</td><td class='real' title='float64'>&#x25AA;&#x25AA;&#x25AA;&#x25AA;&#x25AA;&#x25AA;&#x25AA;&#x25AA;</td><td class='real' title='float64'>&#x25AA;&#x25AA;&#x25AA;&#x25AA;&#x25AA;&#x25AA;&#x25AA;&#x25AA;</td><td class='real' title='float64'>&#x25AA;&#x25AA;&#x25AA;&#x25AA;&#x25AA;&#x25AA;&#x25AA;&#x25AA;</td></tr>\n",
       "  </thead>\n",
       "  <tbody>\n",
       "    <tr><td class='row_index'>0</td><td>0</td><td>195416</td><td>9.01534</td><td>6.51254</td><td>&minus;12.5</td><td>7.3</td><td>259</td></tr>\n",
       "    <tr><td class='row_index'>1</td><td>1</td><td>38337524</td><td>11.2164</td><td>18.5847</td><td>&minus;300</td><td>8.5</td><td>75747</td></tr>\n",
       "    <tr><td class='row_index'>2</td><td>2</td><td>8175243</td><td>11.8384</td><td>34.4435</td><td>&minus;176</td><td>8.5</td><td>93963.4</td></tr>\n",
       "    <tr><td class='row_index'>3</td><td>3</td><td>2432712</td><td>11.5406</td><td>9.81689</td><td>&minus;300</td><td>8.5</td><td>500</td></tr>\n",
       "    <tr><td class='row_index'>4</td><td>4</td><td>1178852</td><td>11.7661</td><td>10.1969</td><td>&minus;57.33</td><td>8.5</td><td>978</td></tr>\n",
       "    <tr><td class='row_index'>5</td><td>5</td><td>3929346</td><td>11.2084</td><td>9.34256</td><td>&minus;67.5</td><td>8.5</td><td>1021.3</td></tr>\n",
       "    <tr><td class='row_index'>6</td><td>6</td><td>1174647</td><td>12.1262</td><td>10.1109</td><td>&minus;60</td><td>9</td><td>477</td></tr>\n",
       "    <tr><td class='row_index'>7</td><td>7</td><td>15</td><td>31.7887</td><td>30.066</td><td>2.5</td><td>14.5</td><td>88</td></tr>\n",
       "    <tr><td class='row_index'>8</td><td>8</td><td>9</td><td>29.9811</td><td>34.0453</td><td>2.5</td><td>8</td><td>85</td></tr>\n",
       "    <tr><td class='row_index'>9</td><td>9</td><td>23</td><td>36.993</td><td>39.5113</td><td>2.5</td><td>12.5</td><td>104</td></tr>\n",
       "    <tr><td class='row_index'>10</td><td>34</td><td>1</td><td>13.3</td><td><span class=na>NA</span></td><td>13.3</td><td>13.3</td><td>13.3</td></tr>\n",
       "    <tr><td class='row_index'>11</td><td>49</td><td>1</td><td>2.5</td><td><span class=na>NA</span></td><td>2.5</td><td>2.5</td><td>2.5</td></tr>\n",
       "    <tr><td class='row_index'>12</td><td>51</td><td>1</td><td>9.3</td><td><span class=na>NA</span></td><td>9.3</td><td>9.3</td><td>9.3</td></tr>\n",
       "    <tr><td class='row_index'>13</td><td>129</td><td>2</td><td>8.9</td><td>0.565685</td><td>8.5</td><td>8.9</td><td>9.3</td></tr>\n",
       "    <tr><td class='row_index'>14</td><td>208</td><td>64</td><td>8.975</td><td>16.4778</td><td>2.5</td><td>3.3</td><td>93.9</td></tr>\n",
       "  </tbody>\n",
       "  </table>\n",
       "  <div class='footer'>\n",
       "    <div class='frame_dimensions'>15 rows &times; 7 columns</div>\n",
       "  </div>\n",
       "</div>\n"
      ],
      "text/plain": []
     },
     "execution_count": 6,
     "metadata": {},
     "output_type": "execute_result"
    }
   ],
   "source": [
    "%%time\n",
    "\n",
    "#f is a frame proxy used to refer to the frame that is currently being operated on. \n",
    "nyc_taxi_fare[:, (dt.count(dt.f.fare_amount), \n",
    "                  dt.mean(dt.f.fare_amount),\n",
    "                  dt.sd(dt.f.fare_amount),\n",
    "                  dt.min(dt.f.fare_amount),\n",
    "                  dt.median(dt.f.fare_amount),\n",
    "                  dt.max(dt.f.fare_amount)),\n",
    "              dt.by(\"passenger_count\")]"
   ]
  },
  {
   "cell_type": "code",
   "execution_count": 7,
   "metadata": {},
   "outputs": [],
   "source": [
    "del(nyc_taxi_fare)"
   ]
  },
  {
   "cell_type": "markdown",
   "metadata": {},
   "source": [
    "## PYDATATABLE INTERESTING BITS ##"
   ]
  },
  {
   "cell_type": "code",
   "execution_count": null,
   "metadata": {},
   "outputs": [],
   "source": []
  }
 ],
 "metadata": {
  "kernelspec": {
   "display_name": "Python 3",
   "language": "python",
   "name": "python3"
  },
  "language_info": {
   "codemirror_mode": {
    "name": "ipython",
    "version": 3
   },
   "file_extension": ".py",
   "mimetype": "text/x-python",
   "name": "python",
   "nbconvert_exporter": "python",
   "pygments_lexer": "ipython3",
   "version": "3.7.4"
  }
 },
 "nbformat": 4,
 "nbformat_minor": 4
}
