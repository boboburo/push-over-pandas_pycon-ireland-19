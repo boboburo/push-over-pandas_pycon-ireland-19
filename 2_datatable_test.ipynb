{
 "cells": [
  {
   "cell_type": "code",
   "execution_count": 1,
   "metadata": {},
   "outputs": [],
   "source": [
    "import os\n",
    "import yaml\n",
    "import sys\n",
    "\n",
    "with open(\"config.yaml\", 'r') as yml_file:\n",
    "    cfg = yaml.safe_load(yml_file)\n",
    "    \n",
    "data_path = cfg['brian_laptop']['data_path']\n",
    "mb_div = cfg['contants']['mb_div']"
   ]
  },
  {
   "cell_type": "code",
   "execution_count": 2,
   "metadata": {},
   "outputs": [
    {
     "name": "stdout",
     "output_type": "stream",
     "text": [
      "0.9.0\n"
     ]
    }
   ],
   "source": [
    "import datatable as dt\n",
    "print(dt.__version__)"
   ]
  },
  {
   "cell_type": "markdown",
   "metadata": {},
   "source": [
    "## Bigger Data\n",
    "\n",
    "12 million rows, 32 columns"
   ]
  },
  {
   "cell_type": "code",
   "execution_count": 3,
   "metadata": {},
   "outputs": [
    {
     "name": "stdout",
     "output_type": "stream",
     "text": [
      "CPU times: user 39.1 s, sys: 34.6 s, total: 1min 13s\n",
      "Wall time: 32.4 s\n"
     ]
    }
   ],
   "source": [
    "%%time\n",
    "\n",
    "dc_taxi_file = os.path.join(data_path, cfg['data']['dc_taxi_2017'])\n",
    "dc_taxi_2017 = dt.fread(dc_taxi_file)"
   ]
  },
  {
   "cell_type": "code",
   "execution_count": 4,
   "metadata": {},
   "outputs": [
    {
     "name": "stdout",
     "output_type": "stream",
     "text": [
      "data table memory(MB) 5150.51\n",
      "(11937645, 32)\n"
     ]
    }
   ],
   "source": [
    "print(\"data table memory(MB)\", round(sys.getsizeof(dc_taxi_2017)/mb_div,3))\n",
    "print(dc_taxi_2017.shape)"
   ]
  },
  {
   "cell_type": "code",
   "execution_count": 8,
   "metadata": {},
   "outputs": [
    {
     "data": {
      "text/html": [
       "<div class='datatable'>\n",
       "  <table class='frame'>\n",
       "  <thead>\n",
       "    <tr class='colnames'><td class='row_index'></td><th>Type</th><th>PROVIDER NAME</th><th>StartDateTime</th><th>DateCreated</th><th>ID</th><th>ExternalID</th><th>FareAmount</th><th>GratuityAmount</th><th>SurchargeAmount</th><th>ExtraFareAmount</th><th class='vellipsis'>&hellip;</th><th>DestinationLatitude</th><th>DestinationLongitude</th><th>Milage</th><th>Duration</th><th>Unnamed: 31</th></tr>\n",
       "    <tr class='coltypes'><td class='row_index'></td><td class='str' title='str32'>&#x25AA;&#x25AA;&#x25AA;&#x25AA;</td><td class='str' title='str32'>&#x25AA;&#x25AA;&#x25AA;&#x25AA;</td><td class='str' title='str32'>&#x25AA;&#x25AA;&#x25AA;&#x25AA;</td><td class='str' title='str32'>&#x25AA;&#x25AA;&#x25AA;&#x25AA;</td><td class='str' title='str32'>&#x25AA;&#x25AA;&#x25AA;&#x25AA;</td><td class='str' title='str32'>&#x25AA;&#x25AA;&#x25AA;&#x25AA;</td><td class='real' title='float64'>&#x25AA;&#x25AA;&#x25AA;&#x25AA;&#x25AA;&#x25AA;&#x25AA;&#x25AA;</td><td class='real' title='float64'>&#x25AA;&#x25AA;&#x25AA;&#x25AA;&#x25AA;&#x25AA;&#x25AA;&#x25AA;</td><td class='real' title='float64'>&#x25AA;&#x25AA;&#x25AA;&#x25AA;&#x25AA;&#x25AA;&#x25AA;&#x25AA;</td><td class='real' title='float64'>&#x25AA;&#x25AA;&#x25AA;&#x25AA;&#x25AA;&#x25AA;&#x25AA;&#x25AA;</td><td></td><td class='real' title='float64'>&#x25AA;&#x25AA;&#x25AA;&#x25AA;&#x25AA;&#x25AA;&#x25AA;&#x25AA;</td><td class='real' title='float64'>&#x25AA;&#x25AA;&#x25AA;&#x25AA;&#x25AA;&#x25AA;&#x25AA;&#x25AA;</td><td class='real' title='float64'>&#x25AA;&#x25AA;&#x25AA;&#x25AA;&#x25AA;&#x25AA;&#x25AA;&#x25AA;</td><td class='real' title='float64'>&#x25AA;&#x25AA;&#x25AA;&#x25AA;&#x25AA;&#x25AA;&#x25AA;&#x25AA;</td><td class='int' title='int32'>&#x25AA;&#x25AA;&#x25AA;&#x25AA;</td></tr>\n",
       "  </thead>\n",
       "  <tbody>\n",
       "    <tr><td class='row_index'>0</td><td>1</td><td>Yellow Cab</td><td>2017-12-01 00:01:06.0000000 +00:00</td><td>2017-12-01 00:09:54.4033333 +00:00</td><td>B467__82709__2017-12-01T00:09:54.403_36188498</td><td>36188498</td><td>7.57</td><td>1.83</td><td>0.25</td><td>0.25</td><td class=vellipsis>&hellip;</td><td>38.9023</td><td>&minus;77.0356</td><td>2.11</td><td>8</td><td><span class=na>NA</span></td></tr>\n",
       "    <tr><td class='row_index'>1</td><td>1</td><td>Yellow Cab</td><td>2017-12-01 00:05:27.0000000 +00:00</td><td>2017-12-01 00:11:43.4666667 +00:00</td><td>B369__52337__2017-12-01T00:11:43.467_36188500</td><td>36188500</td><td>4.6</td><td>0</td><td>0.25</td><td>1.25</td><td class=vellipsis>&hellip;</td><td>38.8974</td><td>&minus;77.031</td><td>0.62</td><td>6</td><td><span class=na>NA</span></td></tr>\n",
       "    <tr><td class='row_index'>2</td><td>1</td><td>Yellow Cab</td><td>2017-12-01 00:07:01.0000000 +00:00</td><td>2017-12-01 00:13:01.3133333 +00:00</td><td>K781__91115__2017-12-01T00:13:01.313_36188501</td><td>36188501</td><td>5.14</td><td>1</td><td>0.25</td><td>0.25</td><td class=vellipsis>&hellip;</td><td>38.9121</td><td>&minus;77.0417</td><td>0.96</td><td>5</td><td><span class=na>NA</span></td></tr>\n",
       "    <tr><td class='row_index'>3</td><td>1</td><td>Yellow Cab</td><td>2017-12-01 00:04:23.0000000 +00:00</td><td>2017-12-01 00:15:08.8033333 +00:00</td><td>B395__70930__2017-12-01T00:15:08.803_36188503</td><td>36188503</td><td>11.89</td><td>0</td><td>0.25</td><td>1.25</td><td class=vellipsis>&hellip;</td><td>38.8898</td><td>&minus;77.0801</td><td>4.05</td><td>10</td><td><span class=na>NA</span></td></tr>\n",
       "    <tr><td class='row_index'>4</td><td>1</td><td>Yellow Cab</td><td>2017-12-01 00:01:41.0000000 +00:00</td><td>2017-12-01 00:15:40.9000000 +00:00</td><td>B477__78157__2017-12-01T00:15:40.900_36188504</td><td>36188504</td><td>6.22</td><td>0</td><td>0.25</td><td>2.25</td><td class=vellipsis>&hellip;</td><td>38.883</td><td>&minus;76.978</td><td>1.37</td><td>13</td><td><span class=na>NA</span></td></tr>\n",
       "  </tbody>\n",
       "  </table>\n",
       "  <div class='footer'>\n",
       "    <div class='frame_dimensions'>5 rows &times; 32 columns</div>\n",
       "  </div>\n",
       "</div>\n"
      ],
      "text/plain": []
     },
     "execution_count": 8,
     "metadata": {},
     "output_type": "execute_result"
    }
   ],
   "source": [
    "dc_taxi_2017[:5,:]"
   ]
  },
  {
   "cell_type": "code",
   "execution_count": 6,
   "metadata": {},
   "outputs": [],
   "source": [
    "#del(dc_taxi_2017)"
   ]
  }
 ],
 "metadata": {
  "kernelspec": {
   "display_name": "Python 3",
   "language": "python",
   "name": "python3"
  },
  "language_info": {
   "codemirror_mode": {
    "name": "ipython",
    "version": 3
   },
   "file_extension": ".py",
   "mimetype": "text/x-python",
   "name": "python",
   "nbconvert_exporter": "python",
   "pygments_lexer": "ipython3",
   "version": "3.7.4"
  }
 },
 "nbformat": 4,
 "nbformat_minor": 4
}
